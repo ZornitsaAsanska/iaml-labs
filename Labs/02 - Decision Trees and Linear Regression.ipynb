{
 "cells": [
  {
   "cell_type": "markdown",
   "metadata": {},
   "source": [
    "# Introductory applied machine learning (INFR10069) "
   ]
  },
  {
   "cell_type": "markdown",
   "metadata": {},
   "source": [
    "# Lab 2: Decision trees and linear regression"
   ]
  },
  {
   "cell_type": "markdown",
   "metadata": {},
   "source": [
    "In the first part of this lab we perform Decision trees classification on the [German credit](http://archive.ics.uci.edu/ml/datasets/Statlog+%28German+Credit+Data%29) data set. In the second part we learn how to train simple linear regression model by using the [CPU performance](https://archive.ics.uci.edu/ml/datasets/Computer+Hardware) data set. Both datasets (`credit.csv` and `cpu.csv`) are located within the `datasets` directory (adjacent to this file)."
   ]
  },
  {
   "cell_type": "markdown",
   "metadata": {},
   "source": [
    "As always, first activate the python environment if not already done so (remember to exclude 'source' if you're on windows):"
   ]
  },
  {
   "cell_type": "markdown",
   "metadata": {},
   "source": [
    "```{bash}\n",
    "source activate py3iaml\n",
    "```"
   ]
  },
  {
   "cell_type": "markdown",
   "metadata": {},
   "source": [
    "Now let's import the packages (*This will generate some warnings related to the libraries: ignore*):"
   ]
  },
  {
   "cell_type": "code",
   "execution_count": 1,
   "metadata": {},
   "outputs": [
    {
     "name": "stderr",
     "output_type": "stream",
     "text": [
      "C:\\Users\\zoria\\miniconda3\\envs\\py3iaml\\lib\\site-packages\\sklearn\\utils\\__init__.py:4: DeprecationWarning: Using or importing the ABCs from 'collections' instead of from 'collections.abc' is deprecated since Python 3.3,and in 3.9 it will stop working\n",
      "  from collections import Sequence\n",
      "C:\\Users\\zoria\\miniconda3\\envs\\py3iaml\\lib\\site-packages\\sklearn\\ensemble\\weight_boosting.py:29: DeprecationWarning: numpy.core.umath_tests is an internal NumPy module and should not be imported. It will be removed in a future NumPy release.\n",
      "  from numpy.core.umath_tests import inner1d\n"
     ]
    }
   ],
   "source": [
    "# Import packages\n",
    "import os\n",
    "import numpy as np \n",
    "import pandas as pd\n",
    "import matplotlib.pyplot as plt\n",
    "import seaborn as sns\n",
    "import graphviz\n",
    "from sklearn.model_selection import train_test_split\n",
    "from sklearn.linear_model import LinearRegression\n",
    "from sklearn.tree import DecisionTreeClassifier, export_graphviz\n",
    "from sklearn.ensemble import RandomForestClassifier\n",
    "from sklearn.metrics import accuracy_score, confusion_matrix, r2_score\n",
    "%matplotlib inline"
   ]
  },
  {
   "cell_type": "markdown",
   "metadata": {},
   "source": [
    "## 1. Decision Trees\n",
    "One of the great advantages of decision trees is their interpretability. The rules learnt for classification are easy for a person to follow, unlike the opaque \"black box\" of many other methods, such as neural networks. We demonstrate the utility of this using a German credit data set. You can read a description of this dataset at the [UCI site](http://archive.ics.uci.edu/ml/datasets/Statlog+%28German+Credit+Data%29). The task is to predict whether a loan approval is good or bad credit risk based on 20 attributes. We've simplified the data set somewhat, particularly making attribute names and values more meaningful."
   ]
  },
  {
   "cell_type": "markdown",
   "metadata": {
    "collapsed": true
   },
   "source": [
    "We will load the credit dataset into a pandas DataFrame structure. "
   ]
  },
  {
   "cell_type": "code",
   "execution_count": 2,
   "metadata": {},
   "outputs": [],
   "source": [
    "# Load the dataset\n",
    "data_path = os.path.join(os.getcwd(), 'datasets', 'credit.csv')\n",
    "credit = pd.read_csv(data_path, delimiter = ',')"
   ]
  },
  {
   "cell_type": "markdown",
   "metadata": {},
   "source": [
    "### ========== Question 1.1 ==========\n",
    "Display the number of data points and attributes in the dataset. "
   ]
  },
  {
   "cell_type": "code",
   "execution_count": 3,
   "metadata": {},
   "outputs": [
    {
     "name": "stdout",
     "output_type": "stream",
     "text": [
      "Data points: 1001\n",
      "Attribute count: 20\n",
      "  CheckingAccount  Duration CreditHistory     Purpose  CreditAmount  \\\n",
      "0              <0       0.0            ok   furniture -1.000000e+09   \n",
      "1              <0       6.0      critical  television  1.169000e+03   \n",
      "2            <200      48.0    ok_til_now  television  5.951000e+03   \n",
      "3            none      12.0      critical   education  2.096000e+03   \n",
      "4              <0      42.0    ok_til_now   furniture  7.882000e+03   \n",
      "\n",
      "  SavingsAccount YearsEmployed  InstallmentRate PersonalStatus OtherDebtors  \\\n",
      "0        unknown    unemployed         -10000.0  female_single         none   \n",
      "1        unknown           >=7              4.0    male_single         none   \n",
      "2           <100            <4              2.0         female         none   \n",
      "3           <100            <7              2.0    male_single         none   \n",
      "4           <100            <7              2.0    male_single    guarantor   \n",
      "\n",
      "    ...       Property    Age  OtherPlans Housing NumCreditsAtBank        Job  \\\n",
      "0   ...            car -293.0        none     own          -1000.0    skilled   \n",
      "1   ...    real_estate   67.0        none     own              2.0    skilled   \n",
      "2   ...    real_estate   22.0        none     own              1.0    skilled   \n",
      "3   ...    real_estate   49.0        none     own              1.0  unskilled   \n",
      "4   ...        savings   45.0        none    free              1.0    skilled   \n",
      "\n",
      "  Dependents  Telephone Foreign Approve  \n",
      "0     -185.0        yes      no    good  \n",
      "1        1.0        yes     yes    good  \n",
      "2        1.0         no     yes     bad  \n",
      "3        2.0         no     yes    good  \n",
      "4        2.0         no     yes    good  \n",
      "\n",
      "[5 rows x 21 columns]\n"
     ]
    },
    {
     "data": {
      "text/html": [
       "<div>\n",
       "<style scoped>\n",
       "    .dataframe tbody tr th:only-of-type {\n",
       "        vertical-align: middle;\n",
       "    }\n",
       "\n",
       "    .dataframe tbody tr th {\n",
       "        vertical-align: top;\n",
       "    }\n",
       "\n",
       "    .dataframe thead th {\n",
       "        text-align: right;\n",
       "    }\n",
       "</style>\n",
       "<table border=\"1\" class=\"dataframe\">\n",
       "  <thead>\n",
       "    <tr style=\"text-align: right;\">\n",
       "      <th></th>\n",
       "      <th>Duration</th>\n",
       "      <th>CreditAmount</th>\n",
       "      <th>InstallmentRate</th>\n",
       "      <th>ResidentSince</th>\n",
       "      <th>Age</th>\n",
       "      <th>NumCreditsAtBank</th>\n",
       "      <th>Dependents</th>\n",
       "    </tr>\n",
       "  </thead>\n",
       "  <tbody>\n",
       "    <tr>\n",
       "      <th>count</th>\n",
       "      <td>1001.000000</td>\n",
       "      <td>1.001000e+03</td>\n",
       "      <td>1001.000000</td>\n",
       "      <td>1001.000000</td>\n",
       "      <td>1001.000000</td>\n",
       "      <td>1001.000000</td>\n",
       "      <td>1001.000000</td>\n",
       "    </tr>\n",
       "    <tr>\n",
       "      <th>mean</th>\n",
       "      <td>20.882118</td>\n",
       "      <td>-9.957330e+05</td>\n",
       "      <td>-7.019980</td>\n",
       "      <td>2.842158</td>\n",
       "      <td>35.217782</td>\n",
       "      <td>0.406593</td>\n",
       "      <td>0.969031</td>\n",
       "    </tr>\n",
       "    <tr>\n",
       "      <th>std</th>\n",
       "      <td>12.070878</td>\n",
       "      <td>3.160708e+07</td>\n",
       "      <td>316.165715</td>\n",
       "      <td>1.106825</td>\n",
       "      <td>15.398264</td>\n",
       "      <td>31.656714</td>\n",
       "      <td>5.894916</td>\n",
       "    </tr>\n",
       "    <tr>\n",
       "      <th>min</th>\n",
       "      <td>0.000000</td>\n",
       "      <td>-1.000000e+09</td>\n",
       "      <td>-10000.000000</td>\n",
       "      <td>0.000000</td>\n",
       "      <td>-293.000000</td>\n",
       "      <td>-1000.000000</td>\n",
       "      <td>-185.000000</td>\n",
       "    </tr>\n",
       "    <tr>\n",
       "      <th>25%</th>\n",
       "      <td>12.000000</td>\n",
       "      <td>1.364000e+03</td>\n",
       "      <td>2.000000</td>\n",
       "      <td>2.000000</td>\n",
       "      <td>27.000000</td>\n",
       "      <td>1.000000</td>\n",
       "      <td>1.000000</td>\n",
       "    </tr>\n",
       "    <tr>\n",
       "      <th>50%</th>\n",
       "      <td>18.000000</td>\n",
       "      <td>2.319000e+03</td>\n",
       "      <td>3.000000</td>\n",
       "      <td>3.000000</td>\n",
       "      <td>33.000000</td>\n",
       "      <td>1.000000</td>\n",
       "      <td>1.000000</td>\n",
       "    </tr>\n",
       "    <tr>\n",
       "      <th>75%</th>\n",
       "      <td>24.000000</td>\n",
       "      <td>3.972000e+03</td>\n",
       "      <td>4.000000</td>\n",
       "      <td>4.000000</td>\n",
       "      <td>42.000000</td>\n",
       "      <td>2.000000</td>\n",
       "      <td>1.000000</td>\n",
       "    </tr>\n",
       "    <tr>\n",
       "      <th>max</th>\n",
       "      <td>72.000000</td>\n",
       "      <td>1.842400e+04</td>\n",
       "      <td>4.000000</td>\n",
       "      <td>4.000000</td>\n",
       "      <td>75.000000</td>\n",
       "      <td>4.000000</td>\n",
       "      <td>2.000000</td>\n",
       "    </tr>\n",
       "  </tbody>\n",
       "</table>\n",
       "</div>"
      ],
      "text/plain": [
       "          Duration  CreditAmount  InstallmentRate  ResidentSince          Age  \\\n",
       "count  1001.000000  1.001000e+03      1001.000000    1001.000000  1001.000000   \n",
       "mean     20.882118 -9.957330e+05        -7.019980       2.842158    35.217782   \n",
       "std      12.070878  3.160708e+07       316.165715       1.106825    15.398264   \n",
       "min       0.000000 -1.000000e+09    -10000.000000       0.000000  -293.000000   \n",
       "25%      12.000000  1.364000e+03         2.000000       2.000000    27.000000   \n",
       "50%      18.000000  2.319000e+03         3.000000       3.000000    33.000000   \n",
       "75%      24.000000  3.972000e+03         4.000000       4.000000    42.000000   \n",
       "max      72.000000  1.842400e+04         4.000000       4.000000    75.000000   \n",
       "\n",
       "       NumCreditsAtBank   Dependents  \n",
       "count       1001.000000  1001.000000  \n",
       "mean           0.406593     0.969031  \n",
       "std           31.656714     5.894916  \n",
       "min        -1000.000000  -185.000000  \n",
       "25%            1.000000     1.000000  \n",
       "50%            1.000000     1.000000  \n",
       "75%            2.000000     1.000000  \n",
       "max            4.000000     2.000000  "
      ]
     },
     "execution_count": 3,
     "metadata": {},
     "output_type": "execute_result"
    }
   ],
   "source": [
    "# Your Code goes here:\n",
    "print(f'Data points: {len(credit.index)}')\n",
    "print(f'Attribute count: {len(credit.columns) - 1}')\n",
    "print(credit.head())\n",
    "credit.describe()"
   ]
  },
  {
   "cell_type": "markdown",
   "metadata": {},
   "source": [
    "### ========== Question 1.2 ==========\n",
    "Get a feeling of the data by using pandas `describe()` method. Be careful - there is a mixture of numeric and categorical data and hence will need to output it in two stages:"
   ]
  },
  {
   "cell_type": "code",
   "execution_count": 4,
   "metadata": {},
   "outputs": [
    {
     "data": {
      "text/html": [
       "<div>\n",
       "<style scoped>\n",
       "    .dataframe tbody tr th:only-of-type {\n",
       "        vertical-align: middle;\n",
       "    }\n",
       "\n",
       "    .dataframe tbody tr th {\n",
       "        vertical-align: top;\n",
       "    }\n",
       "\n",
       "    .dataframe thead th {\n",
       "        text-align: right;\n",
       "    }\n",
       "</style>\n",
       "<table border=\"1\" class=\"dataframe\">\n",
       "  <thead>\n",
       "    <tr style=\"text-align: right;\">\n",
       "      <th></th>\n",
       "      <th>Duration</th>\n",
       "      <th>CreditAmount</th>\n",
       "      <th>InstallmentRate</th>\n",
       "      <th>ResidentSince</th>\n",
       "      <th>Age</th>\n",
       "      <th>NumCreditsAtBank</th>\n",
       "      <th>Dependents</th>\n",
       "    </tr>\n",
       "  </thead>\n",
       "  <tbody>\n",
       "    <tr>\n",
       "      <th>0</th>\n",
       "      <td>0.0</td>\n",
       "      <td>-1.000000e+09</td>\n",
       "      <td>-10000.0</td>\n",
       "      <td>0.0</td>\n",
       "      <td>-293.0</td>\n",
       "      <td>-1000.0</td>\n",
       "      <td>-185.0</td>\n",
       "    </tr>\n",
       "    <tr>\n",
       "      <th>1</th>\n",
       "      <td>6.0</td>\n",
       "      <td>1.169000e+03</td>\n",
       "      <td>4.0</td>\n",
       "      <td>4.0</td>\n",
       "      <td>67.0</td>\n",
       "      <td>2.0</td>\n",
       "      <td>1.0</td>\n",
       "    </tr>\n",
       "    <tr>\n",
       "      <th>2</th>\n",
       "      <td>48.0</td>\n",
       "      <td>5.951000e+03</td>\n",
       "      <td>2.0</td>\n",
       "      <td>2.0</td>\n",
       "      <td>22.0</td>\n",
       "      <td>1.0</td>\n",
       "      <td>1.0</td>\n",
       "    </tr>\n",
       "    <tr>\n",
       "      <th>3</th>\n",
       "      <td>12.0</td>\n",
       "      <td>2.096000e+03</td>\n",
       "      <td>2.0</td>\n",
       "      <td>3.0</td>\n",
       "      <td>49.0</td>\n",
       "      <td>1.0</td>\n",
       "      <td>2.0</td>\n",
       "    </tr>\n",
       "    <tr>\n",
       "      <th>4</th>\n",
       "      <td>42.0</td>\n",
       "      <td>7.882000e+03</td>\n",
       "      <td>2.0</td>\n",
       "      <td>4.0</td>\n",
       "      <td>45.0</td>\n",
       "      <td>1.0</td>\n",
       "      <td>2.0</td>\n",
       "    </tr>\n",
       "  </tbody>\n",
       "</table>\n",
       "</div>"
      ],
      "text/plain": [
       "   Duration  CreditAmount  InstallmentRate  ResidentSince    Age  \\\n",
       "0       0.0 -1.000000e+09         -10000.0            0.0 -293.0   \n",
       "1       6.0  1.169000e+03              4.0            4.0   67.0   \n",
       "2      48.0  5.951000e+03              2.0            2.0   22.0   \n",
       "3      12.0  2.096000e+03              2.0            3.0   49.0   \n",
       "4      42.0  7.882000e+03              2.0            4.0   45.0   \n",
       "\n",
       "   NumCreditsAtBank  Dependents  \n",
       "0           -1000.0      -185.0  \n",
       "1               2.0         1.0  \n",
       "2               1.0         1.0  \n",
       "3               1.0         2.0  \n",
       "4               1.0         2.0  "
      ]
     },
     "execution_count": 4,
     "metadata": {},
     "output_type": "execute_result"
    }
   ],
   "source": [
    "# Output Numeric Data\n",
    "# Your Code goes here:\n",
    "numeric_data = credit._get_numeric_data()\n",
    "numeric_data.head()"
   ]
  },
  {
   "cell_type": "code",
   "execution_count": 5,
   "metadata": {},
   "outputs": [
    {
     "data": {
      "text/html": [
       "<div>\n",
       "<style scoped>\n",
       "    .dataframe tbody tr th:only-of-type {\n",
       "        vertical-align: middle;\n",
       "    }\n",
       "\n",
       "    .dataframe tbody tr th {\n",
       "        vertical-align: top;\n",
       "    }\n",
       "\n",
       "    .dataframe thead th {\n",
       "        text-align: right;\n",
       "    }\n",
       "</style>\n",
       "<table border=\"1\" class=\"dataframe\">\n",
       "  <thead>\n",
       "    <tr style=\"text-align: right;\">\n",
       "      <th></th>\n",
       "      <th>OtherPlans</th>\n",
       "      <th>CheckingAccount</th>\n",
       "      <th>Housing</th>\n",
       "      <th>PersonalStatus</th>\n",
       "      <th>SavingsAccount</th>\n",
       "      <th>OtherDebtors</th>\n",
       "      <th>Purpose</th>\n",
       "      <th>Foreign</th>\n",
       "      <th>Job</th>\n",
       "      <th>Telephone</th>\n",
       "      <th>Approve</th>\n",
       "      <th>Property</th>\n",
       "      <th>YearsEmployed</th>\n",
       "      <th>CreditHistory</th>\n",
       "    </tr>\n",
       "  </thead>\n",
       "  <tbody>\n",
       "    <tr>\n",
       "      <th>0</th>\n",
       "      <td>none</td>\n",
       "      <td>&lt;0</td>\n",
       "      <td>own</td>\n",
       "      <td>female_single</td>\n",
       "      <td>unknown</td>\n",
       "      <td>none</td>\n",
       "      <td>furniture</td>\n",
       "      <td>no</td>\n",
       "      <td>skilled</td>\n",
       "      <td>yes</td>\n",
       "      <td>good</td>\n",
       "      <td>car</td>\n",
       "      <td>unemployed</td>\n",
       "      <td>ok</td>\n",
       "    </tr>\n",
       "    <tr>\n",
       "      <th>1</th>\n",
       "      <td>none</td>\n",
       "      <td>&lt;0</td>\n",
       "      <td>own</td>\n",
       "      <td>male_single</td>\n",
       "      <td>unknown</td>\n",
       "      <td>none</td>\n",
       "      <td>television</td>\n",
       "      <td>yes</td>\n",
       "      <td>skilled</td>\n",
       "      <td>yes</td>\n",
       "      <td>good</td>\n",
       "      <td>real_estate</td>\n",
       "      <td>&gt;=7</td>\n",
       "      <td>critical</td>\n",
       "    </tr>\n",
       "    <tr>\n",
       "      <th>2</th>\n",
       "      <td>none</td>\n",
       "      <td>&lt;200</td>\n",
       "      <td>own</td>\n",
       "      <td>female</td>\n",
       "      <td>&lt;100</td>\n",
       "      <td>none</td>\n",
       "      <td>television</td>\n",
       "      <td>yes</td>\n",
       "      <td>skilled</td>\n",
       "      <td>no</td>\n",
       "      <td>bad</td>\n",
       "      <td>real_estate</td>\n",
       "      <td>&lt;4</td>\n",
       "      <td>ok_til_now</td>\n",
       "    </tr>\n",
       "    <tr>\n",
       "      <th>3</th>\n",
       "      <td>none</td>\n",
       "      <td>none</td>\n",
       "      <td>own</td>\n",
       "      <td>male_single</td>\n",
       "      <td>&lt;100</td>\n",
       "      <td>none</td>\n",
       "      <td>education</td>\n",
       "      <td>yes</td>\n",
       "      <td>unskilled</td>\n",
       "      <td>no</td>\n",
       "      <td>good</td>\n",
       "      <td>real_estate</td>\n",
       "      <td>&lt;7</td>\n",
       "      <td>critical</td>\n",
       "    </tr>\n",
       "    <tr>\n",
       "      <th>4</th>\n",
       "      <td>none</td>\n",
       "      <td>&lt;0</td>\n",
       "      <td>free</td>\n",
       "      <td>male_single</td>\n",
       "      <td>&lt;100</td>\n",
       "      <td>guarantor</td>\n",
       "      <td>furniture</td>\n",
       "      <td>yes</td>\n",
       "      <td>skilled</td>\n",
       "      <td>no</td>\n",
       "      <td>good</td>\n",
       "      <td>savings</td>\n",
       "      <td>&lt;7</td>\n",
       "      <td>ok_til_now</td>\n",
       "    </tr>\n",
       "  </tbody>\n",
       "</table>\n",
       "</div>"
      ],
      "text/plain": [
       "  OtherPlans CheckingAccount Housing PersonalStatus SavingsAccount  \\\n",
       "0       none              <0     own  female_single        unknown   \n",
       "1       none              <0     own    male_single        unknown   \n",
       "2       none            <200     own         female           <100   \n",
       "3       none            none     own    male_single           <100   \n",
       "4       none              <0    free    male_single           <100   \n",
       "\n",
       "  OtherDebtors     Purpose Foreign        Job Telephone Approve     Property  \\\n",
       "0         none   furniture      no    skilled       yes    good          car   \n",
       "1         none  television     yes    skilled       yes    good  real_estate   \n",
       "2         none  television     yes    skilled        no     bad  real_estate   \n",
       "3         none   education     yes  unskilled        no    good  real_estate   \n",
       "4    guarantor   furniture     yes    skilled        no    good      savings   \n",
       "\n",
       "  YearsEmployed CreditHistory  \n",
       "0    unemployed            ok  \n",
       "1           >=7      critical  \n",
       "2            <4    ok_til_now  \n",
       "3            <7      critical  \n",
       "4            <7    ok_til_now  "
      ]
     },
     "execution_count": 5,
     "metadata": {},
     "output_type": "execute_result"
    }
   ],
   "source": [
    "# Output Categorical Data\n",
    "# Your Code goes here:\n",
    "categorical_columns = list(set(credit.columns) - set(numeric_data.columns))\n",
    "categorical_data = credit[categorical_columns]\n",
    "categorical_data.head()"
   ]
  },
  {
   "cell_type": "markdown",
   "metadata": {},
   "source": [
    "### ========== Question 1.3 ==========\n",
    "Display the first 10 data points of the dataset\n",
    "\n",
    "*TIP*: You may need to set the option to display all columns: look at [pandas.set_option](https://pandas.pydata.org/pandas-docs/version/0.23.4/generated/pandas.set_option.html)."
   ]
  },
  {
   "cell_type": "code",
   "execution_count": 6,
   "metadata": {},
   "outputs": [
    {
     "data": {
      "text/html": [
       "<div>\n",
       "<style scoped>\n",
       "    .dataframe tbody tr th:only-of-type {\n",
       "        vertical-align: middle;\n",
       "    }\n",
       "\n",
       "    .dataframe tbody tr th {\n",
       "        vertical-align: top;\n",
       "    }\n",
       "\n",
       "    .dataframe thead th {\n",
       "        text-align: right;\n",
       "    }\n",
       "</style>\n",
       "<table border=\"1\" class=\"dataframe\">\n",
       "  <thead>\n",
       "    <tr style=\"text-align: right;\">\n",
       "      <th></th>\n",
       "      <th>CheckingAccount</th>\n",
       "      <th>Duration</th>\n",
       "      <th>CreditHistory</th>\n",
       "      <th>Purpose</th>\n",
       "      <th>CreditAmount</th>\n",
       "      <th>SavingsAccount</th>\n",
       "      <th>YearsEmployed</th>\n",
       "      <th>InstallmentRate</th>\n",
       "      <th>PersonalStatus</th>\n",
       "      <th>OtherDebtors</th>\n",
       "      <th>...</th>\n",
       "      <th>Property</th>\n",
       "      <th>Age</th>\n",
       "      <th>OtherPlans</th>\n",
       "      <th>Housing</th>\n",
       "      <th>NumCreditsAtBank</th>\n",
       "      <th>Job</th>\n",
       "      <th>Dependents</th>\n",
       "      <th>Telephone</th>\n",
       "      <th>Foreign</th>\n",
       "      <th>Approve</th>\n",
       "    </tr>\n",
       "  </thead>\n",
       "  <tbody>\n",
       "    <tr>\n",
       "      <th>0</th>\n",
       "      <td>&lt;0</td>\n",
       "      <td>0.0</td>\n",
       "      <td>ok</td>\n",
       "      <td>furniture</td>\n",
       "      <td>-1.000000e+09</td>\n",
       "      <td>unknown</td>\n",
       "      <td>unemployed</td>\n",
       "      <td>-10000.0</td>\n",
       "      <td>female_single</td>\n",
       "      <td>none</td>\n",
       "      <td>...</td>\n",
       "      <td>car</td>\n",
       "      <td>-293.0</td>\n",
       "      <td>none</td>\n",
       "      <td>own</td>\n",
       "      <td>-1000.0</td>\n",
       "      <td>skilled</td>\n",
       "      <td>-185.0</td>\n",
       "      <td>yes</td>\n",
       "      <td>no</td>\n",
       "      <td>good</td>\n",
       "    </tr>\n",
       "    <tr>\n",
       "      <th>1</th>\n",
       "      <td>&lt;0</td>\n",
       "      <td>6.0</td>\n",
       "      <td>critical</td>\n",
       "      <td>television</td>\n",
       "      <td>1.169000e+03</td>\n",
       "      <td>unknown</td>\n",
       "      <td>&gt;=7</td>\n",
       "      <td>4.0</td>\n",
       "      <td>male_single</td>\n",
       "      <td>none</td>\n",
       "      <td>...</td>\n",
       "      <td>real_estate</td>\n",
       "      <td>67.0</td>\n",
       "      <td>none</td>\n",
       "      <td>own</td>\n",
       "      <td>2.0</td>\n",
       "      <td>skilled</td>\n",
       "      <td>1.0</td>\n",
       "      <td>yes</td>\n",
       "      <td>yes</td>\n",
       "      <td>good</td>\n",
       "    </tr>\n",
       "    <tr>\n",
       "      <th>2</th>\n",
       "      <td>&lt;200</td>\n",
       "      <td>48.0</td>\n",
       "      <td>ok_til_now</td>\n",
       "      <td>television</td>\n",
       "      <td>5.951000e+03</td>\n",
       "      <td>&lt;100</td>\n",
       "      <td>&lt;4</td>\n",
       "      <td>2.0</td>\n",
       "      <td>female</td>\n",
       "      <td>none</td>\n",
       "      <td>...</td>\n",
       "      <td>real_estate</td>\n",
       "      <td>22.0</td>\n",
       "      <td>none</td>\n",
       "      <td>own</td>\n",
       "      <td>1.0</td>\n",
       "      <td>skilled</td>\n",
       "      <td>1.0</td>\n",
       "      <td>no</td>\n",
       "      <td>yes</td>\n",
       "      <td>bad</td>\n",
       "    </tr>\n",
       "    <tr>\n",
       "      <th>3</th>\n",
       "      <td>none</td>\n",
       "      <td>12.0</td>\n",
       "      <td>critical</td>\n",
       "      <td>education</td>\n",
       "      <td>2.096000e+03</td>\n",
       "      <td>&lt;100</td>\n",
       "      <td>&lt;7</td>\n",
       "      <td>2.0</td>\n",
       "      <td>male_single</td>\n",
       "      <td>none</td>\n",
       "      <td>...</td>\n",
       "      <td>real_estate</td>\n",
       "      <td>49.0</td>\n",
       "      <td>none</td>\n",
       "      <td>own</td>\n",
       "      <td>1.0</td>\n",
       "      <td>unskilled</td>\n",
       "      <td>2.0</td>\n",
       "      <td>no</td>\n",
       "      <td>yes</td>\n",
       "      <td>good</td>\n",
       "    </tr>\n",
       "    <tr>\n",
       "      <th>4</th>\n",
       "      <td>&lt;0</td>\n",
       "      <td>42.0</td>\n",
       "      <td>ok_til_now</td>\n",
       "      <td>furniture</td>\n",
       "      <td>7.882000e+03</td>\n",
       "      <td>&lt;100</td>\n",
       "      <td>&lt;7</td>\n",
       "      <td>2.0</td>\n",
       "      <td>male_single</td>\n",
       "      <td>guarantor</td>\n",
       "      <td>...</td>\n",
       "      <td>savings</td>\n",
       "      <td>45.0</td>\n",
       "      <td>none</td>\n",
       "      <td>free</td>\n",
       "      <td>1.0</td>\n",
       "      <td>skilled</td>\n",
       "      <td>2.0</td>\n",
       "      <td>no</td>\n",
       "      <td>yes</td>\n",
       "      <td>good</td>\n",
       "    </tr>\n",
       "    <tr>\n",
       "      <th>5</th>\n",
       "      <td>&lt;0</td>\n",
       "      <td>24.0</td>\n",
       "      <td>past_delays</td>\n",
       "      <td>car_new</td>\n",
       "      <td>4.870000e+03</td>\n",
       "      <td>&lt;100</td>\n",
       "      <td>&lt;4</td>\n",
       "      <td>3.0</td>\n",
       "      <td>male_single</td>\n",
       "      <td>none</td>\n",
       "      <td>...</td>\n",
       "      <td>unknown</td>\n",
       "      <td>53.0</td>\n",
       "      <td>none</td>\n",
       "      <td>free</td>\n",
       "      <td>2.0</td>\n",
       "      <td>skilled</td>\n",
       "      <td>2.0</td>\n",
       "      <td>no</td>\n",
       "      <td>yes</td>\n",
       "      <td>bad</td>\n",
       "    </tr>\n",
       "    <tr>\n",
       "      <th>6</th>\n",
       "      <td>none</td>\n",
       "      <td>36.0</td>\n",
       "      <td>ok_til_now</td>\n",
       "      <td>education</td>\n",
       "      <td>9.055000e+03</td>\n",
       "      <td>unknown</td>\n",
       "      <td>&lt;4</td>\n",
       "      <td>2.0</td>\n",
       "      <td>male_single</td>\n",
       "      <td>none</td>\n",
       "      <td>...</td>\n",
       "      <td>unknown</td>\n",
       "      <td>35.0</td>\n",
       "      <td>none</td>\n",
       "      <td>free</td>\n",
       "      <td>1.0</td>\n",
       "      <td>unskilled</td>\n",
       "      <td>2.0</td>\n",
       "      <td>yes</td>\n",
       "      <td>yes</td>\n",
       "      <td>good</td>\n",
       "    </tr>\n",
       "    <tr>\n",
       "      <th>7</th>\n",
       "      <td>none</td>\n",
       "      <td>24.0</td>\n",
       "      <td>ok_til_now</td>\n",
       "      <td>furniture</td>\n",
       "      <td>2.835000e+03</td>\n",
       "      <td>&lt;1000</td>\n",
       "      <td>&gt;=7</td>\n",
       "      <td>3.0</td>\n",
       "      <td>male_single</td>\n",
       "      <td>none</td>\n",
       "      <td>...</td>\n",
       "      <td>savings</td>\n",
       "      <td>53.0</td>\n",
       "      <td>none</td>\n",
       "      <td>own</td>\n",
       "      <td>1.0</td>\n",
       "      <td>skilled</td>\n",
       "      <td>1.0</td>\n",
       "      <td>no</td>\n",
       "      <td>yes</td>\n",
       "      <td>good</td>\n",
       "    </tr>\n",
       "    <tr>\n",
       "      <th>8</th>\n",
       "      <td>&lt;200</td>\n",
       "      <td>36.0</td>\n",
       "      <td>ok_til_now</td>\n",
       "      <td>car_used</td>\n",
       "      <td>6.948000e+03</td>\n",
       "      <td>&lt;100</td>\n",
       "      <td>&lt;4</td>\n",
       "      <td>2.0</td>\n",
       "      <td>male_single</td>\n",
       "      <td>none</td>\n",
       "      <td>...</td>\n",
       "      <td>car</td>\n",
       "      <td>35.0</td>\n",
       "      <td>none</td>\n",
       "      <td>rent</td>\n",
       "      <td>1.0</td>\n",
       "      <td>management</td>\n",
       "      <td>1.0</td>\n",
       "      <td>yes</td>\n",
       "      <td>yes</td>\n",
       "      <td>good</td>\n",
       "    </tr>\n",
       "    <tr>\n",
       "      <th>9</th>\n",
       "      <td>none</td>\n",
       "      <td>12.0</td>\n",
       "      <td>ok_til_now</td>\n",
       "      <td>television</td>\n",
       "      <td>3.059000e+03</td>\n",
       "      <td>&gt;=1000</td>\n",
       "      <td>&lt;7</td>\n",
       "      <td>2.0</td>\n",
       "      <td>male_divorced</td>\n",
       "      <td>none</td>\n",
       "      <td>...</td>\n",
       "      <td>real_estate</td>\n",
       "      <td>61.0</td>\n",
       "      <td>none</td>\n",
       "      <td>own</td>\n",
       "      <td>1.0</td>\n",
       "      <td>unskilled</td>\n",
       "      <td>1.0</td>\n",
       "      <td>no</td>\n",
       "      <td>yes</td>\n",
       "      <td>good</td>\n",
       "    </tr>\n",
       "  </tbody>\n",
       "</table>\n",
       "<p>10 rows × 21 columns</p>\n",
       "</div>"
      ],
      "text/plain": [
       "  CheckingAccount  Duration CreditHistory     Purpose  CreditAmount  \\\n",
       "0              <0       0.0            ok   furniture -1.000000e+09   \n",
       "1              <0       6.0      critical  television  1.169000e+03   \n",
       "2            <200      48.0    ok_til_now  television  5.951000e+03   \n",
       "3            none      12.0      critical   education  2.096000e+03   \n",
       "4              <0      42.0    ok_til_now   furniture  7.882000e+03   \n",
       "5              <0      24.0   past_delays     car_new  4.870000e+03   \n",
       "6            none      36.0    ok_til_now   education  9.055000e+03   \n",
       "7            none      24.0    ok_til_now   furniture  2.835000e+03   \n",
       "8            <200      36.0    ok_til_now    car_used  6.948000e+03   \n",
       "9            none      12.0    ok_til_now  television  3.059000e+03   \n",
       "\n",
       "  SavingsAccount YearsEmployed  InstallmentRate PersonalStatus OtherDebtors  \\\n",
       "0        unknown    unemployed         -10000.0  female_single         none   \n",
       "1        unknown           >=7              4.0    male_single         none   \n",
       "2           <100            <4              2.0         female         none   \n",
       "3           <100            <7              2.0    male_single         none   \n",
       "4           <100            <7              2.0    male_single    guarantor   \n",
       "5           <100            <4              3.0    male_single         none   \n",
       "6        unknown            <4              2.0    male_single         none   \n",
       "7          <1000           >=7              3.0    male_single         none   \n",
       "8           <100            <4              2.0    male_single         none   \n",
       "9         >=1000            <7              2.0  male_divorced         none   \n",
       "\n",
       "    ...       Property    Age  OtherPlans Housing NumCreditsAtBank  \\\n",
       "0   ...            car -293.0        none     own          -1000.0   \n",
       "1   ...    real_estate   67.0        none     own              2.0   \n",
       "2   ...    real_estate   22.0        none     own              1.0   \n",
       "3   ...    real_estate   49.0        none     own              1.0   \n",
       "4   ...        savings   45.0        none    free              1.0   \n",
       "5   ...        unknown   53.0        none    free              2.0   \n",
       "6   ...        unknown   35.0        none    free              1.0   \n",
       "7   ...        savings   53.0        none     own              1.0   \n",
       "8   ...            car   35.0        none    rent              1.0   \n",
       "9   ...    real_estate   61.0        none     own              1.0   \n",
       "\n",
       "          Job Dependents  Telephone Foreign Approve  \n",
       "0     skilled     -185.0        yes      no    good  \n",
       "1     skilled        1.0        yes     yes    good  \n",
       "2     skilled        1.0         no     yes     bad  \n",
       "3   unskilled        2.0         no     yes    good  \n",
       "4     skilled        2.0         no     yes    good  \n",
       "5     skilled        2.0         no     yes     bad  \n",
       "6   unskilled        2.0        yes     yes    good  \n",
       "7     skilled        1.0         no     yes    good  \n",
       "8  management        1.0        yes     yes    good  \n",
       "9   unskilled        1.0         no     yes    good  \n",
       "\n",
       "[10 rows x 21 columns]"
      ]
     },
     "execution_count": 6,
     "metadata": {},
     "output_type": "execute_result"
    }
   ],
   "source": [
    "# Your Code goes here:\n",
    "credit.head(10)"
   ]
  },
  {
   "cell_type": "markdown",
   "metadata": {},
   "source": [
    "### ========== Question 1.4 ==========\n",
    "When presented with a dataset, it is usually a good idea to visualise it first. By using seaborn's [pairplot](https://seaborn.github.io/generated/seaborn.pairplot.html?highlight=pairplot#seaborn.pairplot) function, try visualising a scatter plot of the `Age` and `Duration` variables. You can use the `Approve` variable as the `hue` parameter to visualise results separately for each class. Do you notice anything unusual?"
   ]
  },
  {
   "cell_type": "code",
   "execution_count": 7,
   "metadata": {},
   "outputs": [
    {
     "name": "stdout",
     "output_type": "stream",
     "text": [
      "Minimum age: -293.0\n"
     ]
    },
    {
     "data": {
      "image/png": "[encoded data removed]",
      "text/plain": [
       "<Figure size 492.75x432 with 1 Axes>"
      ]
     },
     "metadata": {
      "needs_background": "light"
     },
     "output_type": "display_data"
    }
   ],
   "source": [
    "# Your Code goes here:\n",
    "sns.pairplot(credit, x_vars=['Age'], y_vars=['Duration'], hue = 'Approve', height=6)\n",
    "print(f'Minimum age: {np.min(credit[\"Age\"])}')"
   ]
  },
  {
   "cell_type": "markdown",
   "metadata": {},
   "source": [
    "***Your answer goes here:*** \n",
    "Invalid age <0"
   ]
  },
  {
   "cell_type": "markdown",
   "metadata": {},
   "source": [
    "### ========== Question 1.5 ==========\n",
    "In the previous point you should have found a data point, which seems to be corrupted, as some of its values are nonsensical. Even a single point like this can significantly affect the performance of a classifier. How do you think it would affect Decision trees? How about Naive Bayes? A good way to check this is to test the performance of each classifier before and after removing this datapoint."
   ]
  },
  {
   "cell_type": "markdown",
   "metadata": {},
   "source": [
    "***Your answer goes here:***"
   ]
  },
  {
   "cell_type": "markdown",
   "metadata": {},
   "source": [
    "### ========== Question 1.6 ==========\n",
    "Now we want to remove this instance from the dataset by using a filter. In general, we want to remove all instances, where the age of an applicant is lower than 0 years, as this suggests that the instance is corrupted. Use logical indexing to get rid of these instances without creating a new dataframe. Display the number of data points after any outliers have been removed."
   ]
  },
  {
   "cell_type": "code",
   "execution_count": 8,
   "metadata": {},
   "outputs": [],
   "source": [
    "# Your Code goes here:\n",
    "credit = credit[credit['Age']>0]"
   ]
  },
  {
   "cell_type": "code",
   "execution_count": 9,
   "metadata": {},
   "outputs": [
    {
     "name": "stdout",
     "output_type": "stream",
     "text": [
      "Minimum age: 19.0\n"
     ]
    },
    {
     "data": {
      "image/png": "[encoded data removed]",
      "text/plain": [
       "<Figure size 492.75x432 with 1 Axes>"
      ]
     },
     "metadata": {
      "needs_background": "light"
     },
     "output_type": "display_data"
    }
   ],
   "source": [
    "sns.pairplot(credit, x_vars=['Age'], y_vars=['Duration'], hue = 'Approve', height=6)\n",
    "print(f'Minimum age: {np.min(credit[\"Age\"])}')"
   ]
  },
  {
   "cell_type": "markdown",
   "metadata": {},
   "source": [
    "## Categorical Data and Encoding"
   ]
  },
  {
   "cell_type": "markdown",
   "metadata": {},
   "source": [
    "### ========== Question 1.7 ==========\n",
    "\n",
    "You might have noticed that most of the attributes in the dataset are in fact discrete. Now we want to know which variables exactly are discrete (both categorical and numerical, look [here](http://stats.stackexchange.com/questions/206/what-is-the-difference-between-discrete-data-and-continuous-data) if you are unsure about the difference) and which are continuous variables. In order to do so, we will inspect the number of possible values that each attribute can take. \n",
    "\n",
    "Display the number of values each attributes takes in the dataset. *Hint: As a first step, you want to loop over the columns of the DataFrame. Then you might find the numpy `unique` function quite useful.*"
   ]
  },
  {
   "cell_type": "code",
   "execution_count": 10,
   "metadata": {},
   "outputs": [
    {
     "name": "stdout",
     "output_type": "stream",
     "text": [
      "CheckingAccount: ['<0' '<200' '>=200' 'none']\n",
      "Duration: [ 4.  5.  6.  7.  8.  9. 10. 11. 12. 13. 14. 15. 16. 18. 20. 21. 22. 24.\n",
      " 26. 27. 28. 30. 33. 36. 39. 40. 42. 45. 47. 48. 54. 60. 72.]\n",
      "CreditHistory: ['critical' 'ok' 'ok_at_this_bank' 'ok_til_now' 'past_delays']\n",
      "Purpose: ['appliances' 'business' 'car_new' 'car_used' 'education' 'furniture'\n",
      " 'others' 'repairs' 'retraining' 'television']\n",
      "CreditAmount: [  250.   276.   338.   339.   343.   362.   368.   385.   392.   409.\n",
      "   426.   428.   433.   448.   454.   458.   484.   518.   522.   571.\n",
      "   585.   590.   601.   609.   618.   625.   626.   629.   639.   640.\n",
      "   652.   654.   660.   662.   666.   672.   674.   682.   683.   684.\n",
      "   685.   691.   697.   700.   701.   707.   708.   709.   717.   719.\n",
      "   727.   730.   731.   741.   745.   750.   753.   754.   759.   760.\n",
      "   763.   766.   776.   781.   783.   790.   795.   797.   802.   804.\n",
      "   806.   836.   841.   846.   860.   866.   874.   882.   884.   886.\n",
      "   888.   894.   900.   902.   907.   909.   915.   918.   926.   929.\n",
      "   930.   931.   932.   936.   937.   939.   947.   950.   951.   958.\n",
      "   959.   960.   975.   976.   983.   996.   999.  1007.  1024.  1028.\n",
      "  1037.  1038.  1042.  1047.  1048.  1049.  1050.  1053.  1055.  1056.\n",
      "  1068.  1076.  1082.  1092.  1098.  1101.  1103.  1107.  1108.  1113.\n",
      "  1123.  1126.  1131.  1136.  1138.  1149.  1154.  1155.  1158.  1163.\n",
      "  1164.  1168.  1169.  1175.  1185.  1188.  1190.  1193.  1198.  1199.\n",
      "  1200.  1201.  1203.  1204.  1206.  1207.  1209.  1213.  1216.  1217.\n",
      "  1221.  1223.  1224.  1225.  1228.  1231.  1236.  1237.  1238.  1239.\n",
      "  1240.  1244.  1245.  1246.  1249.  1255.  1258.  1262.  1264.  1271.\n",
      "  1274.  1275.  1278.  1282.  1283.  1285.  1287.  1288.  1289.  1291.\n",
      "  1295.  1297.  1299.  1300.  1301.  1308.  1309.  1311.  1313.  1316.\n",
      "  1318.  1322.  1323.  1330.  1331.  1333.  1337.  1338.  1343.  1344.\n",
      "  1345.  1346.  1347.  1352.  1355.  1358.  1360.  1361.  1364.  1366.\n",
      "  1371.  1372.  1374.  1376.  1377.  1381.  1382.  1386.  1388.  1391.\n",
      "  1393.  1402.  1403.  1409.  1410.  1412.  1413.  1414.  1418.  1422.\n",
      "  1424.  1433.  1437.  1442.  1444.  1445.  1449.  1453.  1455.  1459.\n",
      "  1469.  1471.  1473.  1474.  1478.  1480.  1484.  1493.  1494.  1495.\n",
      "  1498.  1501.  1503.  1505.  1512.  1514.  1516.  1520.  1521.  1525.\n",
      "  1526.  1530.  1532.  1533.  1534.  1537.  1538.  1542.  1543.  1544.\n",
      "  1546.  1549.  1552.  1553.  1554.  1555.  1559.  1567.  1568.  1569.\n",
      "  1572.  1574.  1577.  1582.  1585.  1591.  1592.  1595.  1597.  1602.\n",
      "  1603.  1620.  1647.  1655.  1657.  1659.  1670.  1680.  1715.  1721.\n",
      "  1736.  1740.  1743.  1747.  1750.  1755.  1766.  1768.  1778.  1795.\n",
      "  1797.  1800.  1804.  1808.  1817.  1819.  1820.  1823.  1829.  1835.\n",
      "  1837.  1842.  1845.  1851.  1858.  1860.  1864.  1867.  1872.  1880.\n",
      "  1881.  1882.  1884.  1887.  1893.  1898.  1901.  1905.  1908.  1913.\n",
      "  1919.  1922.  1924.  1925.  1927.  1928.  1934.  1935.  1936.  1938.\n",
      "  1940.  1941.  1943.  1950.  1953.  1957.  1961.  1963.  1965.  1967.\n",
      "  1977.  1979.  1980.  1984.  1987.  1995.  2002.  2012.  2022.  2028.\n",
      "  2030.  2032.  2039.  2051.  2058.  2063.  2064.  2069.  2073.  2080.\n",
      "  2096.  2100.  2101.  2108.  2116.  2118.  2121.  2122.  2124.  2132.\n",
      "  2133.  2134.  2136.  2141.  2142.  2145.  2146.  2149.  2150.  2169.\n",
      "  2171.  2181.  2186.  2197.  2210.  2212.  2214.  2221.  2223.  2225.\n",
      "  2235.  2238.  2241.  2246.  2247.  2249.  2251.  2255.  2273.  2278.\n",
      "  2279.  2284.  2288.  2292.  2299.  2301.  2302.  2303.  2315.  2319.\n",
      "  2320.  2323.  2325.  2326.  2327.  2329.  2331.  2333.  2337.  2346.\n",
      "  2348.  2353.  2359.  2360.  2366.  2375.  2384.  2389.  2390.  2394.\n",
      "  2397.  2404.  2406.  2415.  2424.  2427.  2439.  2442.  2445.  2462.\n",
      "  2463.  2473.  2476.  2483.  2503.  2507.  2511.  2515.  2520.  2522.\n",
      "  2528.  2538.  2569.  2570.  2576.  2577.  2578.  2579.  2580.  2600.\n",
      "  2603.  2606.  2611.  2613.  2622.  2625.  2629.  2631.  2647.  2659.\n",
      "  2662.  2670.  2671.  2675.  2679.  2684.  2687.  2697.  2708.  2712.\n",
      "  2718.  2728.  2743.  2745.  2746.  2748.  2751.  2753.  2759.  2760.\n",
      "  2762.  2764.  2767.  2775.  2779.  2782.  2788.  2799.  2812.  2820.\n",
      "  2825.  2828.  2831.  2835.  2848.  2859.  2862.  2864.  2872.  2892.\n",
      "  2896.  2899.  2901.  2910.  2923.  2924.  2930.  2957.  2964.  2969.\n",
      "  2978.  2991.  2993.  2996.  3001.  3016.  3017.  3021.  3029.  3031.\n",
      "  3049.  3051.  3059.  3060.  3062.  3069.  3074.  3077.  3079.  3092.\n",
      "  3104.  3105.  3108.  3114.  3123.  3124.  3148.  3149.  3160.  3161.\n",
      "  3181.  3186.  3190.  3195.  3213.  3229.  3234.  3235.  3244.  3249.\n",
      "  3275.  3331.  3342.  3343.  3345.  3349.  3357.  3368.  3378.  3380.\n",
      "  3384.  3386.  3394.  3398.  3399.  3414.  3416.  3422.  3430.  3441.\n",
      "  3446.  3447.  3448.  3485.  3488.  3496.  3499.  3509.  3512.  3518.\n",
      "  3527.  3535.  3552.  3556.  3565.  3566.  3568.  3573.  3577.  3578.\n",
      "  3590.  3594.  3595.  3599.  3609.  3612.  3617.  3620.  3621.  3622.\n",
      "  3632.  3643.  3650.  3651.  3652.  3656.  3660.  3676.  3711.  3749.\n",
      "  3757.  3758.  3763.  3777.  3780.  3804.  3812.  3832.  3835.  3844.\n",
      "  3850.  3857.  3863.  3868.  3872.  3878.  3905.  3913.  3914.  3915.\n",
      "  3931.  3939.  3949.  3959.  3965.  3966.  3972.  3973.  3976.  3979.\n",
      "  3990.  4006.  4020.  4042.  4057.  4110.  4113.  4139.  4151.  4153.\n",
      "  4165.  4169.  4210.  4221.  4241.  4249.  4272.  4280.  4281.  4297.\n",
      "  4308.  4351.  4370.  4380.  4439.  4454.  4455.  4463.  4473.  4526.\n",
      "  4530.  4576.  4583.  4591.  4594.  4605.  4611.  4623.  4657.  4675.\n",
      "  4679.  4686.  4712.  4716.  4736.  4746.  4771.  4788.  4795.  4796.\n",
      "  4811.  4817.  4843.  4844.  4870.  4933.  5003.  5045.  5084.  5096.\n",
      "  5103.  5117.  5129.  5150.  5152.  5179.  5190.  5234.  5248.  5293.\n",
      "  5302.  5324.  5371.  5381.  5433.  5493.  5507.  5511.  5595.  5711.\n",
      "  5742.  5743.  5771.  5800.  5801.  5804.  5842.  5848.  5866.  5943.\n",
      "  5951.  5954.  5965.  5998.  6070.  6078.  6110.  6143.  6148.  6187.\n",
      "  6199.  6204.  6224.  6229.  6260.  6288.  6289.  6304.  6313.  6314.\n",
      "  6331.  6350.  6361.  6403.  6416.  6419.  6458.  6468.  6527.  6560.\n",
      "  6568.  6579.  6614.  6615.  6681.  6742.  6758.  6761.  6836.  6842.\n",
      "  6850.  6872.  6887.  6948.  6967.  6999.  7057.  7119.  7127.  7166.\n",
      "  7174.  7228.  7238.  7253.  7297.  7308.  7374.  7393.  7408.  7409.\n",
      "  7418.  7432.  7472.  7476.  7485.  7511.  7582.  7596.  7629.  7678.\n",
      "  7685.  7721.  7758.  7763.  7814.  7824.  7855.  7865.  7882.  7966.\n",
      "  7980.  8065.  8072.  8086.  8133.  8229.  8318.  8335.  8358.  8386.\n",
      "  8471.  8487.  8588.  8613.  8648.  8858.  8947.  8978.  9034.  9055.\n",
      "  9157.  9271.  9277.  9283.  9398.  9436.  9566.  9572.  9629.  9857.\n",
      "  9960. 10127. 10144. 10222. 10297. 10366. 10477. 10623. 10722. 10875.\n",
      " 10961. 10974. 11054. 11328. 11560. 11590. 11760. 11816. 11938. 11998.\n",
      " 12169. 12204. 12389. 12579. 12612. 12680. 12749. 12976. 13756. 14027.\n",
      " 14179. 14318. 14421. 14555. 14782. 14896. 15653. 15672. 15857. 15945.\n",
      " 18424.]\n",
      "SavingsAccount: ['<100' '<1000' '<500' '>=1000' 'unknown']\n",
      "YearsEmployed: ['<1' '<4' '<7' '>=7' 'unemployed']\n",
      "InstallmentRate: [1. 2. 3. 4.]\n",
      "PersonalStatus: ['female' 'male_divorced' 'male_married' 'male_single']\n",
      "OtherDebtors: ['co' 'guarantor' 'none']\n",
      "ResidentSince: [1. 2. 3. 4.]\n",
      "Property: ['car' 'real_estate' 'savings' 'unknown']\n",
      "Age: [19. 20. 21. 22. 23. 24. 25. 26. 27. 28. 29. 30. 31. 32. 33. 34. 35. 36.\n",
      " 37. 38. 39. 40. 41. 42. 43. 44. 45. 46. 47. 48. 49. 50. 51. 52. 53. 54.\n",
      " 55. 56. 57. 58. 59. 60. 61. 62. 63. 64. 65. 66. 67. 68. 70. 74. 75.]\n",
      "OtherPlans: ['bank' 'none' 'stores']\n",
      "Housing: ['free' 'own' 'rent']\n",
      "NumCreditsAtBank: [1. 2. 3. 4.]\n",
      "Job: ['management' 'skilled' 'unemployed' 'unskilled']\n",
      "Dependents: [1. 2.]\n",
      "Telephone: ['no' 'yes']\n",
      "Foreign: ['no' 'yes']\n",
      "Approve: ['bad' 'good']\n"
     ]
    }
   ],
   "source": [
    "# Your Code goes here:\n",
    "for column in list(credit.columns):\n",
    "    print(f\"{column}: {np.unique(credit[column])}\")"
   ]
  },
  {
   "cell_type": "markdown",
   "metadata": {},
   "source": [
    "It seems like the variables `Duration`, `CreditAmount` and `Age` are continuous and all the rest are discrete. The discrete variables are not in a very convenient format though. Ideally we would want the discrete attributes to take values between `0` and `n_values-1`. Pandas has a handy way of dealing with [Categorical](https://pandas.pydata.org/pandas-docs/version/0.23.4/categorical.html) data, which you are encouraged to get familiar with.\n",
    "\n",
    "We will create a new DataFrame called `credit_clean` and convert all the discrete variables from `credit` into pandas Categorical types. Remember, we want to change the discrete variables only, so we will have to exclude the `CreditAmount`, `Age` and `Duration` attributes. Also, we don't really mind if the target variable is categorical, so we won't be transforming the `Approve` attribute either. Execute the cell below and make sure you understand what it does.\n",
    "\n",
    "<font color=green> The used data structure has a __*category array*__ holding the actual category values and an __*integer array*__ of __*codes*__ which point to the actual value in the category array. </font>"
   ]
  },
  {
   "cell_type": "code",
   "execution_count": 11,
   "metadata": {},
   "outputs": [],
   "source": [
    "credit_clean = credit.copy(deep=True) # Make a copy of the DataFrame\n",
    "for column in credit_clean.columns:   \n",
    "    if column not in ['CreditAmount', 'Age', 'Duration', 'Approve']: # Exclude non discrete columns and the target\n",
    "        credit_clean[column] = credit_clean[column].astype('category') # Convert using astype(...) method"
   ]
  },
  {
   "cell_type": "markdown",
   "metadata": {},
   "source": [
    "### ========== Question 1.8 ==========\n",
    "Display the first 10 data points of the clean data. Does it look like what you expected?"
   ]
  },
  {
   "cell_type": "code",
   "execution_count": 12,
   "metadata": {},
   "outputs": [
    {
     "data": {
      "text/html": [
       "<div>\n",
       "<style scoped>\n",
       "    .dataframe tbody tr th:only-of-type {\n",
       "        vertical-align: middle;\n",
       "    }\n",
       "\n",
       "    .dataframe tbody tr th {\n",
       "        vertical-align: top;\n",
       "    }\n",
       "\n",
       "    .dataframe thead th {\n",
       "        text-align: right;\n",
       "    }\n",
       "</style>\n",
       "<table border=\"1\" class=\"dataframe\">\n",
       "  <thead>\n",
       "    <tr style=\"text-align: right;\">\n",
       "      <th></th>\n",
       "      <th>CheckingAccount</th>\n",
       "      <th>Duration</th>\n",
       "      <th>CreditHistory</th>\n",
       "      <th>Purpose</th>\n",
       "      <th>CreditAmount</th>\n",
       "      <th>SavingsAccount</th>\n",
       "      <th>YearsEmployed</th>\n",
       "      <th>InstallmentRate</th>\n",
       "      <th>PersonalStatus</th>\n",
       "      <th>OtherDebtors</th>\n",
       "      <th>...</th>\n",
       "      <th>Property</th>\n",
       "      <th>Age</th>\n",
       "      <th>OtherPlans</th>\n",
       "      <th>Housing</th>\n",
       "      <th>NumCreditsAtBank</th>\n",
       "      <th>Job</th>\n",
       "      <th>Dependents</th>\n",
       "      <th>Telephone</th>\n",
       "      <th>Foreign</th>\n",
       "      <th>Approve</th>\n",
       "    </tr>\n",
       "  </thead>\n",
       "  <tbody>\n",
       "    <tr>\n",
       "      <th>1</th>\n",
       "      <td>&lt;0</td>\n",
       "      <td>6.0</td>\n",
       "      <td>critical</td>\n",
       "      <td>television</td>\n",
       "      <td>1169.0</td>\n",
       "      <td>unknown</td>\n",
       "      <td>&gt;=7</td>\n",
       "      <td>4.0</td>\n",
       "      <td>male_single</td>\n",
       "      <td>none</td>\n",
       "      <td>...</td>\n",
       "      <td>real_estate</td>\n",
       "      <td>67.0</td>\n",
       "      <td>none</td>\n",
       "      <td>own</td>\n",
       "      <td>2.0</td>\n",
       "      <td>skilled</td>\n",
       "      <td>1.0</td>\n",
       "      <td>yes</td>\n",
       "      <td>yes</td>\n",
       "      <td>good</td>\n",
       "    </tr>\n",
       "    <tr>\n",
       "      <th>2</th>\n",
       "      <td>&lt;200</td>\n",
       "      <td>48.0</td>\n",
       "      <td>ok_til_now</td>\n",
       "      <td>television</td>\n",
       "      <td>5951.0</td>\n",
       "      <td>&lt;100</td>\n",
       "      <td>&lt;4</td>\n",
       "      <td>2.0</td>\n",
       "      <td>female</td>\n",
       "      <td>none</td>\n",
       "      <td>...</td>\n",
       "      <td>real_estate</td>\n",
       "      <td>22.0</td>\n",
       "      <td>none</td>\n",
       "      <td>own</td>\n",
       "      <td>1.0</td>\n",
       "      <td>skilled</td>\n",
       "      <td>1.0</td>\n",
       "      <td>no</td>\n",
       "      <td>yes</td>\n",
       "      <td>bad</td>\n",
       "    </tr>\n",
       "    <tr>\n",
       "      <th>3</th>\n",
       "      <td>none</td>\n",
       "      <td>12.0</td>\n",
       "      <td>critical</td>\n",
       "      <td>education</td>\n",
       "      <td>2096.0</td>\n",
       "      <td>&lt;100</td>\n",
       "      <td>&lt;7</td>\n",
       "      <td>2.0</td>\n",
       "      <td>male_single</td>\n",
       "      <td>none</td>\n",
       "      <td>...</td>\n",
       "      <td>real_estate</td>\n",
       "      <td>49.0</td>\n",
       "      <td>none</td>\n",
       "      <td>own</td>\n",
       "      <td>1.0</td>\n",
       "      <td>unskilled</td>\n",
       "      <td>2.0</td>\n",
       "      <td>no</td>\n",
       "      <td>yes</td>\n",
       "      <td>good</td>\n",
       "    </tr>\n",
       "    <tr>\n",
       "      <th>4</th>\n",
       "      <td>&lt;0</td>\n",
       "      <td>42.0</td>\n",
       "      <td>ok_til_now</td>\n",
       "      <td>furniture</td>\n",
       "      <td>7882.0</td>\n",
       "      <td>&lt;100</td>\n",
       "      <td>&lt;7</td>\n",
       "      <td>2.0</td>\n",
       "      <td>male_single</td>\n",
       "      <td>guarantor</td>\n",
       "      <td>...</td>\n",
       "      <td>savings</td>\n",
       "      <td>45.0</td>\n",
       "      <td>none</td>\n",
       "      <td>free</td>\n",
       "      <td>1.0</td>\n",
       "      <td>skilled</td>\n",
       "      <td>2.0</td>\n",
       "      <td>no</td>\n",
       "      <td>yes</td>\n",
       "      <td>good</td>\n",
       "    </tr>\n",
       "    <tr>\n",
       "      <th>5</th>\n",
       "      <td>&lt;0</td>\n",
       "      <td>24.0</td>\n",
       "      <td>past_delays</td>\n",
       "      <td>car_new</td>\n",
       "      <td>4870.0</td>\n",
       "      <td>&lt;100</td>\n",
       "      <td>&lt;4</td>\n",
       "      <td>3.0</td>\n",
       "      <td>male_single</td>\n",
       "      <td>none</td>\n",
       "      <td>...</td>\n",
       "      <td>unknown</td>\n",
       "      <td>53.0</td>\n",
       "      <td>none</td>\n",
       "      <td>free</td>\n",
       "      <td>2.0</td>\n",
       "      <td>skilled</td>\n",
       "      <td>2.0</td>\n",
       "      <td>no</td>\n",
       "      <td>yes</td>\n",
       "      <td>bad</td>\n",
       "    </tr>\n",
       "    <tr>\n",
       "      <th>6</th>\n",
       "      <td>none</td>\n",
       "      <td>36.0</td>\n",
       "      <td>ok_til_now</td>\n",
       "      <td>education</td>\n",
       "      <td>9055.0</td>\n",
       "      <td>unknown</td>\n",
       "      <td>&lt;4</td>\n",
       "      <td>2.0</td>\n",
       "      <td>male_single</td>\n",
       "      <td>none</td>\n",
       "      <td>...</td>\n",
       "      <td>unknown</td>\n",
       "      <td>35.0</td>\n",
       "      <td>none</td>\n",
       "      <td>free</td>\n",
       "      <td>1.0</td>\n",
       "      <td>unskilled</td>\n",
       "      <td>2.0</td>\n",
       "      <td>yes</td>\n",
       "      <td>yes</td>\n",
       "      <td>good</td>\n",
       "    </tr>\n",
       "    <tr>\n",
       "      <th>7</th>\n",
       "      <td>none</td>\n",
       "      <td>24.0</td>\n",
       "      <td>ok_til_now</td>\n",
       "      <td>furniture</td>\n",
       "      <td>2835.0</td>\n",
       "      <td>&lt;1000</td>\n",
       "      <td>&gt;=7</td>\n",
       "      <td>3.0</td>\n",
       "      <td>male_single</td>\n",
       "      <td>none</td>\n",
       "      <td>...</td>\n",
       "      <td>savings</td>\n",
       "      <td>53.0</td>\n",
       "      <td>none</td>\n",
       "      <td>own</td>\n",
       "      <td>1.0</td>\n",
       "      <td>skilled</td>\n",
       "      <td>1.0</td>\n",
       "      <td>no</td>\n",
       "      <td>yes</td>\n",
       "      <td>good</td>\n",
       "    </tr>\n",
       "    <tr>\n",
       "      <th>8</th>\n",
       "      <td>&lt;200</td>\n",
       "      <td>36.0</td>\n",
       "      <td>ok_til_now</td>\n",
       "      <td>car_used</td>\n",
       "      <td>6948.0</td>\n",
       "      <td>&lt;100</td>\n",
       "      <td>&lt;4</td>\n",
       "      <td>2.0</td>\n",
       "      <td>male_single</td>\n",
       "      <td>none</td>\n",
       "      <td>...</td>\n",
       "      <td>car</td>\n",
       "      <td>35.0</td>\n",
       "      <td>none</td>\n",
       "      <td>rent</td>\n",
       "      <td>1.0</td>\n",
       "      <td>management</td>\n",
       "      <td>1.0</td>\n",
       "      <td>yes</td>\n",
       "      <td>yes</td>\n",
       "      <td>good</td>\n",
       "    </tr>\n",
       "    <tr>\n",
       "      <th>9</th>\n",
       "      <td>none</td>\n",
       "      <td>12.0</td>\n",
       "      <td>ok_til_now</td>\n",
       "      <td>television</td>\n",
       "      <td>3059.0</td>\n",
       "      <td>&gt;=1000</td>\n",
       "      <td>&lt;7</td>\n",
       "      <td>2.0</td>\n",
       "      <td>male_divorced</td>\n",
       "      <td>none</td>\n",
       "      <td>...</td>\n",
       "      <td>real_estate</td>\n",
       "      <td>61.0</td>\n",
       "      <td>none</td>\n",
       "      <td>own</td>\n",
       "      <td>1.0</td>\n",
       "      <td>unskilled</td>\n",
       "      <td>1.0</td>\n",
       "      <td>no</td>\n",
       "      <td>yes</td>\n",
       "      <td>good</td>\n",
       "    </tr>\n",
       "    <tr>\n",
       "      <th>10</th>\n",
       "      <td>&lt;200</td>\n",
       "      <td>30.0</td>\n",
       "      <td>critical</td>\n",
       "      <td>car_new</td>\n",
       "      <td>5234.0</td>\n",
       "      <td>&lt;100</td>\n",
       "      <td>unemployed</td>\n",
       "      <td>4.0</td>\n",
       "      <td>male_married</td>\n",
       "      <td>none</td>\n",
       "      <td>...</td>\n",
       "      <td>car</td>\n",
       "      <td>28.0</td>\n",
       "      <td>none</td>\n",
       "      <td>own</td>\n",
       "      <td>2.0</td>\n",
       "      <td>management</td>\n",
       "      <td>1.0</td>\n",
       "      <td>no</td>\n",
       "      <td>yes</td>\n",
       "      <td>bad</td>\n",
       "    </tr>\n",
       "  </tbody>\n",
       "</table>\n",
       "<p>10 rows × 21 columns</p>\n",
       "</div>"
      ],
      "text/plain": [
       "   CheckingAccount  Duration CreditHistory     Purpose  CreditAmount  \\\n",
       "1               <0       6.0      critical  television        1169.0   \n",
       "2             <200      48.0    ok_til_now  television        5951.0   \n",
       "3             none      12.0      critical   education        2096.0   \n",
       "4               <0      42.0    ok_til_now   furniture        7882.0   \n",
       "5               <0      24.0   past_delays     car_new        4870.0   \n",
       "6             none      36.0    ok_til_now   education        9055.0   \n",
       "7             none      24.0    ok_til_now   furniture        2835.0   \n",
       "8             <200      36.0    ok_til_now    car_used        6948.0   \n",
       "9             none      12.0    ok_til_now  television        3059.0   \n",
       "10            <200      30.0      critical     car_new        5234.0   \n",
       "\n",
       "   SavingsAccount YearsEmployed InstallmentRate PersonalStatus OtherDebtors  \\\n",
       "1         unknown           >=7             4.0    male_single         none   \n",
       "2            <100            <4             2.0         female         none   \n",
       "3            <100            <7             2.0    male_single         none   \n",
       "4            <100            <7             2.0    male_single    guarantor   \n",
       "5            <100            <4             3.0    male_single         none   \n",
       "6         unknown            <4             2.0    male_single         none   \n",
       "7           <1000           >=7             3.0    male_single         none   \n",
       "8            <100            <4             2.0    male_single         none   \n",
       "9          >=1000            <7             2.0  male_divorced         none   \n",
       "10           <100    unemployed             4.0   male_married         none   \n",
       "\n",
       "     ...       Property   Age  OtherPlans Housing NumCreditsAtBank  \\\n",
       "1    ...    real_estate  67.0        none     own              2.0   \n",
       "2    ...    real_estate  22.0        none     own              1.0   \n",
       "3    ...    real_estate  49.0        none     own              1.0   \n",
       "4    ...        savings  45.0        none    free              1.0   \n",
       "5    ...        unknown  53.0        none    free              2.0   \n",
       "6    ...        unknown  35.0        none    free              1.0   \n",
       "7    ...        savings  53.0        none     own              1.0   \n",
       "8    ...            car  35.0        none    rent              1.0   \n",
       "9    ...    real_estate  61.0        none     own              1.0   \n",
       "10   ...            car  28.0        none     own              2.0   \n",
       "\n",
       "           Job Dependents Telephone Foreign Approve  \n",
       "1      skilled        1.0       yes     yes    good  \n",
       "2      skilled        1.0        no     yes     bad  \n",
       "3    unskilled        2.0        no     yes    good  \n",
       "4      skilled        2.0        no     yes    good  \n",
       "5      skilled        2.0        no     yes     bad  \n",
       "6    unskilled        2.0       yes     yes    good  \n",
       "7      skilled        1.0        no     yes    good  \n",
       "8   management        1.0       yes     yes    good  \n",
       "9    unskilled        1.0        no     yes    good  \n",
       "10  management        1.0        no     yes     bad  \n",
       "\n",
       "[10 rows x 21 columns]"
      ]
     },
     "execution_count": 12,
     "metadata": {},
     "output_type": "execute_result"
    }
   ],
   "source": [
    "# Your Code goes here:\n",
    "credit_clean.head(10)"
   ]
  },
  {
   "cell_type": "markdown",
   "metadata": {},
   "source": [
    "### ========== Question 1.9 ==========\n",
    "\n",
    "There is a **conceptual** problem with using an (unordered) categorical input to train a decision tree. Can you figure it out? *Hint*: Look at the data-types supported by the `DecisionTreeClassifier`, specifically the input to the [fit](http://scikit-learn.org/0.19/modules/generated/sklearn.tree.DecisionTreeClassifier.html#sklearn.tree.DecisionTreeClassifier.fit) method."
   ]
  },
  {
   "cell_type": "markdown",
   "metadata": {},
   "source": [
    "***Your answer goes here:*** <font color=green>Using integer encoding for categorical data allows the algorithm to assume there is a natural ordering between the categories. To avoid that sklearn demands all categorical input to be presented in one-hot encoding."
   ]
  },
  {
   "cell_type": "markdown",
   "metadata": {},
   "source": [
    "### ========== Question 1.10 ==========\n",
    "\n",
    "Let us then convert the categorical values we just created into a one-hot-encoding. Pandas provides this functionality conveniently via the [`get_dummies`](https://pandas.pydata.org/pandas-docs/version/0.23.4/generated/pandas.get_dummies.html) method. Use it to generate a matrix `X` containing the one-hot encoded categorical features as well as the floating-point attributes (`CreditAmount`, `Age` and `Duration`). Also, (separately) extract the target variable (`Approve`) into a vector `y`. In each case, display the shape of the matrix/vector `X` and `y`. \n",
    "\n",
    "*TIP: It will be useful to keep track of the column names in the new one-hot-encoded format for later.*"
   ]
  },
  {
   "cell_type": "code",
   "execution_count": 13,
   "metadata": {},
   "outputs": [
    {
     "name": "stdout",
     "output_type": "stream",
     "text": [
      "(1000, 71)\n"
     ]
    },
    {
     "data": {
      "text/html": [
       "<div>\n",
       "<style scoped>\n",
       "    .dataframe tbody tr th:only-of-type {\n",
       "        vertical-align: middle;\n",
       "    }\n",
       "\n",
       "    .dataframe tbody tr th {\n",
       "        vertical-align: top;\n",
       "    }\n",
       "\n",
       "    .dataframe thead th {\n",
       "        text-align: right;\n",
       "    }\n",
       "</style>\n",
       "<table border=\"1\" class=\"dataframe\">\n",
       "  <thead>\n",
       "    <tr style=\"text-align: right;\">\n",
       "      <th></th>\n",
       "      <th>Duration</th>\n",
       "      <th>CreditAmount</th>\n",
       "      <th>Age</th>\n",
       "      <th>CheckingAccount_&lt;0</th>\n",
       "      <th>CheckingAccount_&lt;200</th>\n",
       "      <th>CheckingAccount_&gt;=200</th>\n",
       "      <th>CheckingAccount_none</th>\n",
       "      <th>CreditHistory_critical</th>\n",
       "      <th>CreditHistory_ok</th>\n",
       "      <th>CreditHistory_ok_at_this_bank</th>\n",
       "      <th>...</th>\n",
       "      <th>Job_management</th>\n",
       "      <th>Job_skilled</th>\n",
       "      <th>Job_unemployed</th>\n",
       "      <th>Job_unskilled</th>\n",
       "      <th>Dependents_1.0</th>\n",
       "      <th>Dependents_2.0</th>\n",
       "      <th>Telephone_no</th>\n",
       "      <th>Telephone_yes</th>\n",
       "      <th>Foreign_no</th>\n",
       "      <th>Foreign_yes</th>\n",
       "    </tr>\n",
       "  </thead>\n",
       "  <tbody>\n",
       "    <tr>\n",
       "      <th>1</th>\n",
       "      <td>6.0</td>\n",
       "      <td>1169.0</td>\n",
       "      <td>67.0</td>\n",
       "      <td>1</td>\n",
       "      <td>0</td>\n",
       "      <td>0</td>\n",
       "      <td>0</td>\n",
       "      <td>1</td>\n",
       "      <td>0</td>\n",
       "      <td>0</td>\n",
       "      <td>...</td>\n",
       "      <td>0</td>\n",
       "      <td>1</td>\n",
       "      <td>0</td>\n",
       "      <td>0</td>\n",
       "      <td>1</td>\n",
       "      <td>0</td>\n",
       "      <td>0</td>\n",
       "      <td>1</td>\n",
       "      <td>0</td>\n",
       "      <td>1</td>\n",
       "    </tr>\n",
       "    <tr>\n",
       "      <th>2</th>\n",
       "      <td>48.0</td>\n",
       "      <td>5951.0</td>\n",
       "      <td>22.0</td>\n",
       "      <td>0</td>\n",
       "      <td>1</td>\n",
       "      <td>0</td>\n",
       "      <td>0</td>\n",
       "      <td>0</td>\n",
       "      <td>0</td>\n",
       "      <td>0</td>\n",
       "      <td>...</td>\n",
       "      <td>0</td>\n",
       "      <td>1</td>\n",
       "      <td>0</td>\n",
       "      <td>0</td>\n",
       "      <td>1</td>\n",
       "      <td>0</td>\n",
       "      <td>1</td>\n",
       "      <td>0</td>\n",
       "      <td>0</td>\n",
       "      <td>1</td>\n",
       "    </tr>\n",
       "    <tr>\n",
       "      <th>3</th>\n",
       "      <td>12.0</td>\n",
       "      <td>2096.0</td>\n",
       "      <td>49.0</td>\n",
       "      <td>0</td>\n",
       "      <td>0</td>\n",
       "      <td>0</td>\n",
       "      <td>1</td>\n",
       "      <td>1</td>\n",
       "      <td>0</td>\n",
       "      <td>0</td>\n",
       "      <td>...</td>\n",
       "      <td>0</td>\n",
       "      <td>0</td>\n",
       "      <td>0</td>\n",
       "      <td>1</td>\n",
       "      <td>0</td>\n",
       "      <td>1</td>\n",
       "      <td>1</td>\n",
       "      <td>0</td>\n",
       "      <td>0</td>\n",
       "      <td>1</td>\n",
       "    </tr>\n",
       "    <tr>\n",
       "      <th>4</th>\n",
       "      <td>42.0</td>\n",
       "      <td>7882.0</td>\n",
       "      <td>45.0</td>\n",
       "      <td>1</td>\n",
       "      <td>0</td>\n",
       "      <td>0</td>\n",
       "      <td>0</td>\n",
       "      <td>0</td>\n",
       "      <td>0</td>\n",
       "      <td>0</td>\n",
       "      <td>...</td>\n",
       "      <td>0</td>\n",
       "      <td>1</td>\n",
       "      <td>0</td>\n",
       "      <td>0</td>\n",
       "      <td>0</td>\n",
       "      <td>1</td>\n",
       "      <td>1</td>\n",
       "      <td>0</td>\n",
       "      <td>0</td>\n",
       "      <td>1</td>\n",
       "    </tr>\n",
       "    <tr>\n",
       "      <th>5</th>\n",
       "      <td>24.0</td>\n",
       "      <td>4870.0</td>\n",
       "      <td>53.0</td>\n",
       "      <td>1</td>\n",
       "      <td>0</td>\n",
       "      <td>0</td>\n",
       "      <td>0</td>\n",
       "      <td>0</td>\n",
       "      <td>0</td>\n",
       "      <td>0</td>\n",
       "      <td>...</td>\n",
       "      <td>0</td>\n",
       "      <td>1</td>\n",
       "      <td>0</td>\n",
       "      <td>0</td>\n",
       "      <td>0</td>\n",
       "      <td>1</td>\n",
       "      <td>1</td>\n",
       "      <td>0</td>\n",
       "      <td>0</td>\n",
       "      <td>1</td>\n",
       "    </tr>\n",
       "  </tbody>\n",
       "</table>\n",
       "<p>5 rows × 71 columns</p>\n",
       "</div>"
      ],
      "text/plain": [
       "   Duration  CreditAmount   Age  CheckingAccount_<0  CheckingAccount_<200  \\\n",
       "1       6.0        1169.0  67.0                   1                     0   \n",
       "2      48.0        5951.0  22.0                   0                     1   \n",
       "3      12.0        2096.0  49.0                   0                     0   \n",
       "4      42.0        7882.0  45.0                   1                     0   \n",
       "5      24.0        4870.0  53.0                   1                     0   \n",
       "\n",
       "   CheckingAccount_>=200  CheckingAccount_none  CreditHistory_critical  \\\n",
       "1                      0                     0                       1   \n",
       "2                      0                     0                       0   \n",
       "3                      0                     1                       1   \n",
       "4                      0                     0                       0   \n",
       "5                      0                     0                       0   \n",
       "\n",
       "   CreditHistory_ok  CreditHistory_ok_at_this_bank     ...       \\\n",
       "1                 0                              0     ...        \n",
       "2                 0                              0     ...        \n",
       "3                 0                              0     ...        \n",
       "4                 0                              0     ...        \n",
       "5                 0                              0     ...        \n",
       "\n",
       "   Job_management  Job_skilled  Job_unemployed  Job_unskilled  Dependents_1.0  \\\n",
       "1               0            1               0              0               1   \n",
       "2               0            1               0              0               1   \n",
       "3               0            0               0              1               0   \n",
       "4               0            1               0              0               0   \n",
       "5               0            1               0              0               0   \n",
       "\n",
       "   Dependents_2.0  Telephone_no  Telephone_yes  Foreign_no  Foreign_yes  \n",
       "1               0             0              1           0            1  \n",
       "2               0             1              0           0            1  \n",
       "3               1             1              0           0            1  \n",
       "4               1             1              0           0            1  \n",
       "5               1             1              0           0            1  \n",
       "\n",
       "[5 rows x 71 columns]"
      ]
     },
     "execution_count": 13,
     "metadata": {},
     "output_type": "execute_result"
    }
   ],
   "source": [
    "# Extract (and print the shape of) X\n",
    "\n",
    "# Your Code goes here:\n",
    "credit_encoded = pd.get_dummies(credit_clean.drop('Approve', axis=1))\n",
    "X = credit_encoded.values\n",
    "print(X.shape)\n",
    "credit_encoded.head()"
   ]
  },
  {
   "cell_type": "code",
   "execution_count": 14,
   "metadata": {},
   "outputs": [
    {
     "data": {
      "text/plain": [
       "(1000,)"
      ]
     },
     "execution_count": 14,
     "metadata": {},
     "output_type": "execute_result"
    }
   ],
   "source": [
    "# Extract the Target y (and print its shape)\n",
    "\n",
    "# Your Code goes here:\n",
    "y = credit_clean['Approve'].values\n",
    "y.shape"
   ]
  },
  {
   "cell_type": "markdown",
   "metadata": {},
   "source": [
    "(Confirm that you have 71 input features, one target variable and 1000 data points). *Bonus Question*: where did the 71 come from?"
   ]
  },
  {
   "cell_type": "markdown",
   "metadata": {},
   "source": [
    "<font color = green>\\\\( num\\_attributes = num\\_continuous\\_attr + \\sum_{k \\in discrete\\_attr} k*num\\_values(k)\\\\)"
   ]
  },
  {
   "cell_type": "markdown",
   "metadata": {},
   "source": [
    "## Hold-out validation\n",
    "In the next step we will be using a Decision Tree classifier model. To get an accurate estimate of the model's classification performance we will use hold-out validation. Familiriase yourself with the logic behind [`train_test_split CV`](http://scikit-learn.org/0.19/modules/cross_validation.html#cross-validation-evaluating-estimator-performance) (also called `Hold-out` validation) and [how it is used](http://scikit-learn.org/0.19/modules/generated/sklearn.cross_validation.train_test_split.html) in `Scikit-learn`. Execute the cell below to create your training/testing sets by assigning 10% of the data to the test set (and convince yourself you understand what is going on)."
   ]
  },
  {
   "cell_type": "code",
   "execution_count": 15,
   "metadata": {},
   "outputs": [],
   "source": [
    "X_train, X_test, y_train, y_test = train_test_split(X, y, train_size = 0.9, test_size=0.1, random_state=0)\n",
    "# What does rendom_state do???"
   ]
  },
  {
   "cell_type": "markdown",
   "metadata": {},
   "source": [
    "### ========== Question 1.11 ==========\n",
    "Confirm that `X_train` and `X_test` matrices are subsets of `X` by displaying the number of rows in the three matrices (no need to make use of set theory)."
   ]
  },
  {
   "cell_type": "code",
   "execution_count": 16,
   "metadata": {},
   "outputs": [
    {
     "name": "stdout",
     "output_type": "stream",
     "text": [
      "X_train: 900, X_test: 100, X: 1000\n"
     ]
    }
   ],
   "source": [
    "# Your Code goes here:\n",
    "print(f\"X_train: {X_train.shape[0]}, X_test: {X_test.shape[0]}, X: {X.shape[0]}\")"
   ]
  },
  {
   "cell_type": "markdown",
   "metadata": {},
   "source": [
    "### ========== Question 1.12 ==========\n",
    "Now we will train a Decision Tree classifier on the training data. Read about [Decision Tree classifiers](http://scikit-learn.org/0.19/modules/tree.html) in `Scikit-learn` and how they are [used](http://scikit-learn.org/0.19/modules/generated/sklearn.tree.DecisionTreeClassifier.html#sklearn.tree.DecisionTreeClassifier). \n",
    "Create a `DecisionTreeClassifier` instance, naming it `dt` and train it by using training data only (i.e. `X_train` and `y_tain`). Set the `criterion` attribute to `entropy` in order to measure the quality of splits by using the information gain. Use the default settings for the rest of parameters. By default, trees are grown to full depth; this means that very fine splits are made involving very few data points. Not only does this make the trees hard to visualise (they'll be deep), but also we could be overfitting the data. For now, we arbitrarily choose a depth of 2 for our tree (to make it easier to interpret below), but this is a parameter we could tune. For consistency, use a `random_state=1000`."
   ]
  },
  {
   "cell_type": "code",
   "execution_count": 17,
   "metadata": {},
   "outputs": [
    {
     "data": {
      "text/plain": [
       "DecisionTreeClassifier(class_weight=None, criterion='entropy', max_depth=2,\n",
       "            max_features=None, max_leaf_nodes=None,\n",
       "            min_impurity_decrease=0.0, min_impurity_split=None,\n",
       "            min_samples_leaf=1, min_samples_split=2,\n",
       "            min_weight_fraction_leaf=0.0, presort=False, random_state=1000,\n",
       "            splitter='best')"
      ]
     },
     "execution_count": 17,
     "metadata": {},
     "output_type": "execute_result"
    }
   ],
   "source": [
    "# Your Code goes here:\n",
    "dt = DecisionTreeClassifier(criterion = 'entropy',max_depth=2, random_state=1000)\n",
    "dt.fit(X = X_train, y = y_train)"
   ]
  },
  {
   "cell_type": "markdown",
   "metadata": {},
   "source": [
    "We have mentioned in the class that decision trees have the advantage of being interpretable by humans. Now we visualise the decision tree we have just trained. Scikit-learn can export the tree in a `.dot` format. Run the following code (replace `column_names` with whatever you used to store the names of the columns of the extended feature-space):"
   ]
  },
  {
   "cell_type": "code",
   "execution_count": 18,
   "metadata": {},
   "outputs": [
    {
     "data": {
      "image/svg+xml": [
       "<?xml version=\"1.0\" encoding=\"UTF-8\" standalone=\"no\"?>\r\n",
       "<!DOCTYPE svg PUBLIC \"-//W3C//DTD SVG 1.1//EN\"\r\n",
       " \"http://www.w3.org/Graphics/SVG/1.1/DTD/svg11.dtd\">\r\n",
       "<!-- Generated by graphviz version 2.38.0 (20140413.2041)\r\n",
       " -->\r\n",
       "<!-- Title: Tree Pages: 1 -->\r\n",
       "<svg width=\"560pt\" height=\"314pt\"\r\n",
       " viewBox=\"0.00 0.00 560.00 314.00\" xmlns=\"http://www.w3.org/2000/svg\" xmlns:xlink=\"http://www.w3.org/1999/xlink\">\r\n",
       "<g id=\"graph0\" class=\"graph\" transform=\"scale(1 1) rotate(0) translate(4 310)\">\r\n",
       "<title>Tree</title>\r\n",
       "<polygon fill=\"white\" stroke=\"none\" points=\"-4,4 -4,-310 556,-310 556,4 -4,4\"/>\r\n",
       "<!-- 0 -->\r\n",
       "<g id=\"node1\" class=\"node\"><title>0</title>\r\n",
       "<path fill=\"#399de5\" fill-opacity=\"0.560784\" stroke=\"black\" d=\"M370,-306C370,-306 182,-306 182,-306 176,-306 170,-300 170,-294 170,-294 170,-235 170,-235 170,-229 176,-223 182,-223 182,-223 370,-223 370,-223 376,-223 382,-229 382,-235 382,-235 382,-294 382,-294 382,-300 376,-306 370,-306\"/>\r\n",
       "<text text-anchor=\"middle\" x=\"276\" y=\"-290.8\" font-family=\"Helvetica,sans-Serif\" font-size=\"14.00\">CheckingAccount_none &lt;= 0.5</text>\r\n",
       "<text text-anchor=\"middle\" x=\"276\" y=\"-275.8\" font-family=\"Helvetica,sans-Serif\" font-size=\"14.00\">entropy = 0.888</text>\r\n",
       "<text text-anchor=\"middle\" x=\"276\" y=\"-260.8\" font-family=\"Helvetica,sans-Serif\" font-size=\"14.00\">samples = 900</text>\r\n",
       "<text text-anchor=\"middle\" x=\"276\" y=\"-245.8\" font-family=\"Helvetica,sans-Serif\" font-size=\"14.00\">value = [275, 625]</text>\r\n",
       "<text text-anchor=\"middle\" x=\"276\" y=\"-230.8\" font-family=\"Helvetica,sans-Serif\" font-size=\"14.00\">class = bad</text>\r\n",
       "</g>\r\n",
       "<!-- 1 -->\r\n",
       "<g id=\"node2\" class=\"node\"><title>1</title>\r\n",
       "<path fill=\"#399de5\" fill-opacity=\"0.250980\" stroke=\"black\" d=\"M245,-187C245,-187 139,-187 139,-187 133,-187 127,-181 127,-175 127,-175 127,-116 127,-116 127,-110 133,-104 139,-104 139,-104 245,-104 245,-104 251,-104 257,-110 257,-116 257,-116 257,-175 257,-175 257,-181 251,-187 245,-187\"/>\r\n",
       "<text text-anchor=\"middle\" x=\"192\" y=\"-171.8\" font-family=\"Helvetica,sans-Serif\" font-size=\"14.00\">Duration &lt;= 11.5</text>\r\n",
       "<text text-anchor=\"middle\" x=\"192\" y=\"-156.8\" font-family=\"Helvetica,sans-Serif\" font-size=\"14.00\">entropy = 0.985</text>\r\n",
       "<text text-anchor=\"middle\" x=\"192\" y=\"-141.8\" font-family=\"Helvetica,sans-Serif\" font-size=\"14.00\">samples = 544</text>\r\n",
       "<text text-anchor=\"middle\" x=\"192\" y=\"-126.8\" font-family=\"Helvetica,sans-Serif\" font-size=\"14.00\">value = [233, 311]</text>\r\n",
       "<text text-anchor=\"middle\" x=\"192\" y=\"-111.8\" font-family=\"Helvetica,sans-Serif\" font-size=\"14.00\">class = bad</text>\r\n",
       "</g>\r\n",
       "<!-- 0&#45;&gt;1 -->\r\n",
       "<g id=\"edge1\" class=\"edge\"><title>0&#45;&gt;1</title>\r\n",
       "<path fill=\"none\" stroke=\"black\" d=\"M246.857,-222.907C240.471,-214.014 233.648,-204.509 227.058,-195.331\"/>\r\n",
       "<polygon fill=\"black\" stroke=\"black\" points=\"229.767,-193.103 221.092,-187.021 224.081,-197.185 229.767,-193.103\"/>\r\n",
       "<text text-anchor=\"middle\" x=\"217.042\" y=\"-207.991\" font-family=\"Helvetica,sans-Serif\" font-size=\"14.00\">True</text>\r\n",
       "</g>\r\n",
       "<!-- 4 -->\r\n",
       "<g id=\"node5\" class=\"node\"><title>4</title>\r\n",
       "<path fill=\"#399de5\" fill-opacity=\"0.866667\" stroke=\"black\" d=\"M434.5,-187C434.5,-187 287.5,-187 287.5,-187 281.5,-187 275.5,-181 275.5,-175 275.5,-175 275.5,-116 275.5,-116 275.5,-110 281.5,-104 287.5,-104 287.5,-104 434.5,-104 434.5,-104 440.5,-104 446.5,-110 446.5,-116 446.5,-116 446.5,-175 446.5,-175 446.5,-181 440.5,-187 434.5,-187\"/>\r\n",
       "<text text-anchor=\"middle\" x=\"361\" y=\"-171.8\" font-family=\"Helvetica,sans-Serif\" font-size=\"14.00\">OtherPlans_none &lt;= 0.5</text>\r\n",
       "<text text-anchor=\"middle\" x=\"361\" y=\"-156.8\" font-family=\"Helvetica,sans-Serif\" font-size=\"14.00\">entropy = 0.524</text>\r\n",
       "<text text-anchor=\"middle\" x=\"361\" y=\"-141.8\" font-family=\"Helvetica,sans-Serif\" font-size=\"14.00\">samples = 356</text>\r\n",
       "<text text-anchor=\"middle\" x=\"361\" y=\"-126.8\" font-family=\"Helvetica,sans-Serif\" font-size=\"14.00\">value = [42, 314]</text>\r\n",
       "<text text-anchor=\"middle\" x=\"361\" y=\"-111.8\" font-family=\"Helvetica,sans-Serif\" font-size=\"14.00\">class = bad</text>\r\n",
       "</g>\r\n",
       "<!-- 0&#45;&gt;4 -->\r\n",
       "<g id=\"edge4\" class=\"edge\"><title>0&#45;&gt;4</title>\r\n",
       "<path fill=\"none\" stroke=\"black\" d=\"M305.49,-222.907C311.951,-214.014 318.857,-204.509 325.524,-195.331\"/>\r\n",
       "<polygon fill=\"black\" stroke=\"black\" points=\"328.516,-197.168 331.562,-187.021 322.853,-193.054 328.516,-197.168\"/>\r\n",
       "<text text-anchor=\"middle\" x=\"335.473\" y=\"-208.013\" font-family=\"Helvetica,sans-Serif\" font-size=\"14.00\">False</text>\r\n",
       "</g>\r\n",
       "<!-- 2 -->\r\n",
       "<g id=\"node3\" class=\"node\"><title>2</title>\r\n",
       "<path fill=\"#399de5\" fill-opacity=\"0.741176\" stroke=\"black\" d=\"M104,-68C104,-68 12,-68 12,-68 6,-68 0,-62 0,-56 0,-56 0,-12 0,-12 0,-6 6,-0 12,-0 12,-0 104,-0 104,-0 110,-0 116,-6 116,-12 116,-12 116,-56 116,-56 116,-62 110,-68 104,-68\"/>\r\n",
       "<text text-anchor=\"middle\" x=\"58\" y=\"-52.8\" font-family=\"Helvetica,sans-Serif\" font-size=\"14.00\">entropy = 0.735</text>\r\n",
       "<text text-anchor=\"middle\" x=\"58\" y=\"-37.8\" font-family=\"Helvetica,sans-Serif\" font-size=\"14.00\">samples = 92</text>\r\n",
       "<text text-anchor=\"middle\" x=\"58\" y=\"-22.8\" font-family=\"Helvetica,sans-Serif\" font-size=\"14.00\">value = [19, 73]</text>\r\n",
       "<text text-anchor=\"middle\" x=\"58\" y=\"-7.8\" font-family=\"Helvetica,sans-Serif\" font-size=\"14.00\">class = bad</text>\r\n",
       "</g>\r\n",
       "<!-- 1&#45;&gt;2 -->\r\n",
       "<g id=\"edge2\" class=\"edge\"><title>1&#45;&gt;2</title>\r\n",
       "<path fill=\"none\" stroke=\"black\" d=\"M142.103,-103.726C130.495,-94.2406 118.153,-84.1551 106.602,-74.7159\"/>\r\n",
       "<polygon fill=\"black\" stroke=\"black\" points=\"108.708,-71.9171 98.7502,-68.2996 104.279,-77.3375 108.708,-71.9171\"/>\r\n",
       "</g>\r\n",
       "<!-- 3 -->\r\n",
       "<g id=\"node4\" class=\"node\"><title>3</title>\r\n",
       "<path fill=\"#399de5\" fill-opacity=\"0.101961\" stroke=\"black\" d=\"M252,-68C252,-68 146,-68 146,-68 140,-68 134,-62 134,-56 134,-56 134,-12 134,-12 134,-6 140,-0 146,-0 146,-0 252,-0 252,-0 258,-0 264,-6 264,-12 264,-12 264,-56 264,-56 264,-62 258,-68 252,-68\"/>\r\n",
       "<text text-anchor=\"middle\" x=\"199\" y=\"-52.8\" font-family=\"Helvetica,sans-Serif\" font-size=\"14.00\">entropy = 0.998</text>\r\n",
       "<text text-anchor=\"middle\" x=\"199\" y=\"-37.8\" font-family=\"Helvetica,sans-Serif\" font-size=\"14.00\">samples = 452</text>\r\n",
       "<text text-anchor=\"middle\" x=\"199\" y=\"-22.8\" font-family=\"Helvetica,sans-Serif\" font-size=\"14.00\">value = [214, 238]</text>\r\n",
       "<text text-anchor=\"middle\" x=\"199\" y=\"-7.8\" font-family=\"Helvetica,sans-Serif\" font-size=\"14.00\">class = bad</text>\r\n",
       "</g>\r\n",
       "<!-- 1&#45;&gt;3 -->\r\n",
       "<g id=\"edge3\" class=\"edge\"><title>1&#45;&gt;3</title>\r\n",
       "<path fill=\"none\" stroke=\"black\" d=\"M194.607,-103.726C195.137,-95.4263 195.697,-86.6671 196.233,-78.2834\"/>\r\n",
       "<polygon fill=\"black\" stroke=\"black\" points=\"199.726,-78.5025 196.871,-68.2996 192.74,-78.0559 199.726,-78.5025\"/>\r\n",
       "</g>\r\n",
       "<!-- 5 -->\r\n",
       "<g id=\"node6\" class=\"node\"><title>5</title>\r\n",
       "<path fill=\"#399de5\" fill-opacity=\"0.552941\" stroke=\"black\" d=\"M400,-68C400,-68 308,-68 308,-68 302,-68 296,-62 296,-56 296,-56 296,-12 296,-12 296,-6 302,-0 308,-0 308,-0 400,-0 400,-0 406,-0 412,-6 412,-12 412,-12 412,-56 412,-56 412,-62 406,-68 400,-68\"/>\r\n",
       "<text text-anchor=\"middle\" x=\"354\" y=\"-52.8\" font-family=\"Helvetica,sans-Serif\" font-size=\"14.00\">entropy = 0.892</text>\r\n",
       "<text text-anchor=\"middle\" x=\"354\" y=\"-37.8\" font-family=\"Helvetica,sans-Serif\" font-size=\"14.00\">samples = 55</text>\r\n",
       "<text text-anchor=\"middle\" x=\"354\" y=\"-22.8\" font-family=\"Helvetica,sans-Serif\" font-size=\"14.00\">value = [17, 38]</text>\r\n",
       "<text text-anchor=\"middle\" x=\"354\" y=\"-7.8\" font-family=\"Helvetica,sans-Serif\" font-size=\"14.00\">class = bad</text>\r\n",
       "</g>\r\n",
       "<!-- 4&#45;&gt;5 -->\r\n",
       "<g id=\"edge5\" class=\"edge\"><title>4&#45;&gt;5</title>\r\n",
       "<path fill=\"none\" stroke=\"black\" d=\"M358.393,-103.726C357.863,-95.4263 357.303,-86.6671 356.767,-78.2834\"/>\r\n",
       "<polygon fill=\"black\" stroke=\"black\" points=\"360.26,-78.0559 356.129,-68.2996 353.274,-78.5025 360.26,-78.0559\"/>\r\n",
       "</g>\r\n",
       "<!-- 6 -->\r\n",
       "<g id=\"node7\" class=\"node\"><title>6</title>\r\n",
       "<path fill=\"#399de5\" fill-opacity=\"0.909804\" stroke=\"black\" d=\"M540,-68C540,-68 442,-68 442,-68 436,-68 430,-62 430,-56 430,-56 430,-12 430,-12 430,-6 436,-0 442,-0 442,-0 540,-0 540,-0 546,-0 552,-6 552,-12 552,-12 552,-56 552,-56 552,-62 546,-68 540,-68\"/>\r\n",
       "<text text-anchor=\"middle\" x=\"491\" y=\"-52.8\" font-family=\"Helvetica,sans-Serif\" font-size=\"14.00\">entropy = 0.413</text>\r\n",
       "<text text-anchor=\"middle\" x=\"491\" y=\"-37.8\" font-family=\"Helvetica,sans-Serif\" font-size=\"14.00\">samples = 301</text>\r\n",
       "<text text-anchor=\"middle\" x=\"491\" y=\"-22.8\" font-family=\"Helvetica,sans-Serif\" font-size=\"14.00\">value = [25, 276]</text>\r\n",
       "<text text-anchor=\"middle\" x=\"491\" y=\"-7.8\" font-family=\"Helvetica,sans-Serif\" font-size=\"14.00\">class = bad</text>\r\n",
       "</g>\r\n",
       "<!-- 4&#45;&gt;6 -->\r\n",
       "<g id=\"edge6\" class=\"edge\"><title>4&#45;&gt;6</title>\r\n",
       "<path fill=\"none\" stroke=\"black\" d=\"M409.407,-103.726C420.56,-94.3318 432.412,-84.349 443.525,-74.9883\"/>\r\n",
       "<polygon fill=\"black\" stroke=\"black\" points=\"446.073,-77.4188 451.466,-68.2996 441.563,-72.065 446.073,-77.4188\"/>\r\n",
       "</g>\r\n",
       "</g>\r\n",
       "</svg>\r\n"
      ],
      "text/plain": [
       "<graphviz.files.Source at 0x1e3d6dd6f08>"
      ]
     },
     "execution_count": 18,
     "metadata": {},
     "output_type": "execute_result"
    }
   ],
   "source": [
    "dot_data = export_graphviz(dt, out_file=None, \n",
    "    feature_names = credit_encoded.columns,  \n",
    "    class_names=credit_clean['Approve'].unique(),  \n",
    "    filled=True, rounded=True,  \n",
    "    special_characters=False)\n",
    "graph = graphviz.Source(dot_data)\n",
    "graph"
   ]
  },
  {
   "cell_type": "markdown",
   "metadata": {},
   "source": [
    "An alternative way to visualise the tree is to open the output .dot file with an editor such as [this online .dot renderer](http://dreampuf.github.io/GraphvizOnline/). You can use the code below to create a dot-file and then copy and paste its contents into the online site (you can double click on the tree once it has been produced to view it in full screen)."
   ]
  },
  {
   "cell_type": "code",
   "execution_count": 19,
   "metadata": {},
   "outputs": [],
   "source": [
    "with open(\"tree.dot\", 'w') as f:\n",
    "    f = export_graphviz(dt, out_file=f,\n",
    "                        feature_names=credit_encoded.columns,  \n",
    "                        class_names=credit_clean['Approve'].unique(),  \n",
    "                        filled=True, rounded=True,  \n",
    "                        special_characters=False)"
   ]
  },
  {
   "cell_type": "markdown",
   "metadata": {},
   "source": [
    "### ========== Question 1.13 ==========\n",
    "Inspect the tree and \n",
    " 1. describe what it shows, explaining how you interpret any one-hot encoded data\n",
    " 1. indicate which is the attribute with the highest information gain."
   ]
  },
  {
   "cell_type": "markdown",
   "metadata": {},
   "source": [
    "***Your answer goes here:***\n",
    "<font color = green>\n",
    " 1. The tree shows the attributes that the tree is split on at each level,  \n",
    "    the entropy of the attribute (how pure the attribute on which we split the data is),  \n",
    "    the number of samples at the node,  \n",
    "    how the samples classify,  \n",
    "    the prevailing class at each node  \n",
    "    When splitting on one-hot-encoded attributes, we don't split on as many children as values in the initial category but we split in a binary fashion - does the each data point belong to the category we split on or not (regardless of which category it actually belongs to in the initial attribute (before encoding)).  \n",
    "    The tree actually splits on the condition <=0.5 but since the values are binary this is the same as splitting to 0s and 1s      \n",
    " 1. OtherPlans_none"
   ]
  },
  {
   "cell_type": "markdown",
   "metadata": {},
   "source": [
    "### ========== Question 1.14 ==========\n",
    "Tree-based estimators (i.e. decision trees and random forests) can be used to compute feature importances. The importance of a feature is computed as the (normalized) total reduction of entropy (or other used `criterion`) brought by that feature. Find the relevant attributes of the classifier you just trained (i.e. those which are actually used in this short tree) and display feature importances along with their names."
   ]
  },
  {
   "cell_type": "code",
   "execution_count": 20,
   "metadata": {},
   "outputs": [
    {
     "data": {
      "text/plain": [
       "array([0.16073405, 0.71761943, 0.12164652])"
      ]
     },
     "execution_count": 20,
     "metadata": {},
     "output_type": "execute_result"
    }
   ],
   "source": [
    "# Your Code goes here:\n",
    "columns = list(credit_encoded.columns)\n",
    "CheckingAccount_none_idx =  columns.index('CheckingAccount_none')\n",
    "Duration_idx = columns.index('Duration')\n",
    "OtherPlans_none_idx = columns.index('OtherPlans_none')\n",
    "dt.feature_importances_[[Duration_idx, CheckingAccount_none_idx, OtherPlans_none_idx]]"
   ]
  },
  {
   "cell_type": "markdown",
   "metadata": {},
   "source": [
    "### ========== Question 1.15 ==========\n",
    "Now we want to evaluate the performance of the classifier on unseen data. Use the trained model to predict the target variables for the test data set. Display the classification accuracy for both the training and test data sets. What do you observe? Are you surprised by the results?"
   ]
  },
  {
   "cell_type": "code",
   "execution_count": 21,
   "metadata": {},
   "outputs": [
    {
     "name": "stdout",
     "output_type": "stream",
     "text": [
      "Train acc: 0.6944444444444444, Test acc: 0.75\n"
     ]
    }
   ],
   "source": [
    "# Your Code goes here:\n",
    "train_predicted = dt.predict(X_train)\n",
    "train_accuracy = accuracy_score(y_train, train_predicted)\n",
    "test_predicted = dt.predict(X_test)\n",
    "test_accuracy = accuracy_score(y_test, test_predicted)\n",
    "print(f\"Train acc: {train_accuracy}, Test acc: {test_accuracy}\")"
   ]
  },
  {
   "cell_type": "markdown",
   "metadata": {},
   "source": [
    "#STARTHIDE#\n",
    "\n",
    "The decision tree classifier is (probably) not overfitting. The classification accuracy is similar for training and test. The decision tree has provided a very simple way to interpret the data - splitting it into 8 bins and applying a class to each bin. Clearly this is an oversimplification: even in the training data, the leaves of the tree contain many examples of the 'incorrect' class.\n",
    "\n",
    "#ENDHIDE"
   ]
  },
  {
   "cell_type": "markdown",
   "metadata": {},
   "source": [
    "**However, the very astute will make an observation:** *Hint: Have a look at the class distribution in the dataset.*"
   ]
  },
  {
   "cell_type": "code",
   "execution_count": 22,
   "metadata": {},
   "outputs": [
    {
     "data": {
      "image/png": "[encoded data removed]",
      "text/plain": [
       "<Figure size 576x288 with 2 Axes>"
      ]
     },
     "metadata": {
      "needs_background": "light"
     },
     "output_type": "display_data"
    }
   ],
   "source": [
    "fig, (ax1, ax2) = plt.subplots(1,2, figsize=(8,4))\n",
    "sns.countplot(y_train, ax=ax1)\n",
    "ax1.set_title('Training set', size=12)\n",
    "ax1.set_xlabel(' ')\n",
    "sns.countplot(y_test, ax=ax2)\n",
    "ax2.set_xlabel(' ')\n",
    "ax2.set_ylabel('')\n",
    "ax2.set_title('Validation set', size=12)\n",
    "fig.suptitle('Target distribution', size=12)\n",
    "plt.show()"
   ]
  },
  {
   "cell_type": "markdown",
   "metadata": {},
   "source": [
    "The dummy classifier of predicting everything as 'good' **will beat this model (75% accuracy on Validation Set)!** In other words, our model is worse than the baseline. **Always compare your models with very simple baselines**."
   ]
  },
  {
   "cell_type": "markdown",
   "metadata": {},
   "source": [
    "### ========== Question 1.16 ==========\n",
    "\n",
    "Fit another `DecisionTreeClassifier` but this time grow it to full depth (i.e. remove the max_depth condition). Again, use a `random_state=1000`. Display the classification accuracy for training and test data as above. Again, what do you observe and are you surprised?"
   ]
  },
  {
   "cell_type": "code",
   "execution_count": 23,
   "metadata": {},
   "outputs": [
    {
     "name": "stdout",
     "output_type": "stream",
     "text": [
      "Train acc: 1.0, Test acc: 0.67\n"
     ]
    }
   ],
   "source": [
    "# Your Code goes here:\n",
    "dt_full_depth = DecisionTreeClassifier(criterion = 'entropy', random_state = 1000)\n",
    "dt_full_depth.fit(X_train, y_train)\n",
    "\n",
    "fd_train_predicted = dt_full_depth.predict(X_train)\n",
    "fd_train_accuracy = accuracy_score(y_train, fd_train_predicted)\n",
    "fd_test_predicted = dt_full_depth.predict(X_test)\n",
    "fd_test_accuracy = accuracy_score(y_test, fd_test_predicted)\n",
    "print(f\"Train acc: {fd_train_accuracy}, Test acc: {fd_test_accuracy}\")"
   ]
  },
  {
   "cell_type": "markdown",
   "metadata": {},
   "source": [
    "***Your answer goes here:***  \n",
    "<font color = green>\n",
    "    The model clearly overfits because we recursively built the tree to full depth (leafs are singletons) thus creating a path for each training datapoint. This way each observation of the training set is classified corectly but the model performs poorly when given new data as it so perfetly fits the training data.  "
   ]
  },
  {
   "cell_type": "markdown",
   "metadata": {},
   "source": [
    "### ========== Question 1.17 ==========\n",
    "By using seaborn's heatmap function, plot the normalised confusion matrices for both the training and test data sets **for the max_depth=3 decision tree from question 1.12**. Make sure you label axes appropriately. *Hint: You can make use of the `plot_confusion_matrix` function introduced in a previous lab, reproduced below.*"
   ]
  },
  {
   "cell_type": "code",
   "execution_count": 24,
   "metadata": {},
   "outputs": [],
   "source": [
    "def plot_confusion_matrix(cm, classes=None, title='Confusion matrix'):\n",
    "    \"\"\"Plots a confusion matrix.\"\"\"\n",
    "    if classes is not None:\n",
    "        sns.heatmap(cm, xticklabels=classes, yticklabels=classes, vmin=0., vmax=1., annot=True)\n",
    "    else:\n",
    "        sns.heatmap(cm, vmin=0., vmax=1.)\n",
    "    plt.title(title)\n",
    "    plt.ylabel('True label')\n",
    "    plt.xlabel('Predicted label')"
   ]
  },
  {
   "cell_type": "code",
   "execution_count": 25,
   "metadata": {},
   "outputs": [
    {
     "data": {
      "image/png": "[encoded data removed]",
      "text/plain": [
       "<Figure size 432x288 with 2 Axes>"
      ]
     },
     "metadata": {
      "needs_background": "light"
     },
     "output_type": "display_data"
    }
   ],
   "source": [
    "# Normalised Data\n",
    "\n",
    "# Your Code goes here:\n",
    "\n",
    "cm_train = confusion_matrix(y_train,train_predicted)\n",
    "norm_cm_train = cm_train / np.sum(cm_train, axis = 1).reshape(-1,1)\n",
    "plot_confusion_matrix(norm_cm_train, classes = ['bad', 'good'])"
   ]
  },
  {
   "cell_type": "code",
   "execution_count": 26,
   "metadata": {},
   "outputs": [
    {
     "data": {
      "image/png": "[encoded data removed]",
      "text/plain": [
       "<Figure size 432x288 with 2 Axes>"
      ]
     },
     "metadata": {
      "needs_background": "light"
     },
     "output_type": "display_data"
    }
   ],
   "source": [
    "# Validation Data\n",
    "\n",
    "# Your Code goes here:\n",
    "\n",
    "cm_test = confusion_matrix(y_test,test_predicted)\n",
    "norm_cm_test = cm_test / np.sum(cm_test, axis = 1).reshape(-1,1)\n",
    "plot_confusion_matrix(norm_cm_test, classes = ['bad', 'good'])"
   ]
  },
  {
   "cell_type": "markdown",
   "metadata": {},
   "source": [
    "**N.B. it will be obvious if you have plotted the full depth decision tree as the training confusion matrix will be the identity**"
   ]
  },
  {
   "cell_type": "code",
   "execution_count": 47,
   "metadata": {},
   "outputs": [
    {
     "data": {
      "image/png": "[encoded data removed]",
      "text/plain": [
       "<Figure size 432x288 with 2 Axes>"
      ]
     },
     "metadata": {
      "needs_background": "light"
     },
     "output_type": "display_data"
    }
   ],
   "source": [
    "# Plot cm of full-depth tree training examples\n",
    "cm_train_full_depth = confusion_matrix(y_train,fd_train_predicted)\n",
    "norm_cm_train_fd = cm_train_full_depth / np.sum(cm_train_full_depth, axis = 1).reshape(-1,1)\n",
    "plot_confusion_matrix(norm_cm_train_fd, classes = ['bad', 'good'])"
   ]
  },
  {
   "cell_type": "markdown",
   "metadata": {},
   "source": [
    "### ========== Question 1.18 ==========\n",
    "\n",
    "Finally we will create a [`Random decision forest`](http://scikit-learn.org/0.19/modules/generated/sklearn.ensemble.RandomForestClassifier.html) classifier and compare the performance of this classifier to that of the decision tree. The random decision forest is an ensemble classifier that consists of many decision trees and outputs the class that is the mode of the class's output by individual trees. Start with `n_estimators = 100`, use the `entropy` criterion and the same train/test split as before. Plot the classification accuracy of the random forest model on the test set and show the confusion matrix. How does the random decision forest compare performance wise to the decision tree?"
   ]
  },
  {
   "cell_type": "code",
   "execution_count": 27,
   "metadata": {},
   "outputs": [
    {
     "name": "stdout",
     "output_type": "stream",
     "text": [
      "Test classification accuracy: 0.77\n"
     ]
    },
    {
     "data": {
      "image/png": "[encoded data removed]",
      "text/plain": [
       "<Figure size 432x288 with 2 Axes>"
      ]
     },
     "metadata": {
      "needs_background": "light"
     },
     "output_type": "display_data"
    }
   ],
   "source": [
    "# Your Code goes here:\n",
    "rfc_credit = RandomForestClassifier(n_estimators=100, criterion='entropy')\n",
    "rfc_credit.fit(X_train, y_train)\n",
    "\n",
    "rfc_test_predicted = rfc_credit.predict(X_test)\n",
    "rfc_test_acc = accuracy_score(y_test,rfc_test_predicted)\n",
    "print(f'Test classification accuracy: {rfc_test_acc}')\n",
    "cm = confusion_matrix(y_test, rfc_test_predicted)\n",
    "norm_cm = cm / np.sum(cm, axis = 1).reshape(-1,1)\n",
    "plot_confusion_matrix(norm_cm, classes = ['bad', 'good'])"
   ]
  },
  {
   "cell_type": "markdown",
   "metadata": {},
   "source": [
    "### ========== Question 1.19 ==========\n",
    "How high can you get the performance of the classifier by changing the max depth of the trees (`max_depth`), or the `max_features` parameters? Try a few values just to get a look. *Don't do a grid search or anything in-depth, just get a feel*. Try the same settings twice...do you get the same accuracy?"
   ]
  },
  {
   "cell_type": "markdown",
   "metadata": {},
   "source": [
    "<font color=green> max_features = The number of features to consider when looking for the best split - default sqrt(number_of_features)"
   ]
  },
  {
   "cell_type": "code",
   "execution_count": 28,
   "metadata": {},
   "outputs": [
    {
     "name": "stdout",
     "output_type": "stream",
     "text": [
      "Depth 5 Acc: 0.6\n",
      "Depth 10 Acc: 0.63\n",
      "Depth 15 Acc: 0.64\n",
      "Depth 25 Acc: 0.67\n",
      "Depth 50 Acc: 0.67\n",
      "Depth 60 Acc: 0.67\n"
     ]
    }
   ],
   "source": [
    "# Your Code goes here:\n",
    "#   ----- DTC Classification -----\n",
    "# DTC Max depth = 5\n",
    "\n",
    "dt_depth_5 = DecisionTreeClassifier(criterion = 'entropy', max_depth=5, random_state = 1000)\n",
    "dt_depth_5.fit(X_train, y_train)\n",
    "\n",
    "test_predicted_d5 = dt_depth_5.predict(X_test)\n",
    "d5_acc = accuracy_score(y_test, test_predicted_d5)\n",
    "print(f\"Depth 5 Acc: {d5_acc}\")\n",
    "\n",
    "# DTC Max depth = 10\n",
    "\n",
    "dt_depth_10 = DecisionTreeClassifier(criterion = 'entropy', max_depth=10, random_state = 1000)\n",
    "dt_depth_10.fit(X_train, y_train)\n",
    "\n",
    "test_predicted_d10 = dt_depth_10.predict(X_test)\n",
    "d10_acc = accuracy_score(y_test, test_predicted_d10)\n",
    "print(f\"Depth 10 Acc: {d10_acc}\")\n",
    "\n",
    "# Visualise tree\n",
    "dot_data = export_graphviz(dt_depth_10, out_file=None, \n",
    "    feature_names = credit_encoded.columns,  \n",
    "    class_names=credit_clean['Approve'].unique(),  \n",
    "    filled=True, rounded=True,  \n",
    "    special_characters=False)\n",
    "graph = graphviz.Source(dot_data)\n",
    "graph.view()\n",
    "\n",
    "# DTC Max depth = 15\n",
    "\n",
    "dt_depth_15 = DecisionTreeClassifier(criterion = 'entropy', max_depth=15, random_state = 1000)\n",
    "dt_depth_15.fit(X_train, y_train)\n",
    "\n",
    "test_predicted_d15 = dt_depth_15.predict(X_test)\n",
    "d15_acc = accuracy_score(y_test, test_predicted_d15)\n",
    "print(f\"Depth 15 Acc: {d15_acc}\")\n",
    "\n",
    "# DTC Max depth = 25\n",
    "\n",
    "dt_depth_25 = DecisionTreeClassifier(criterion = 'entropy', max_depth=25, random_state = 1000)\n",
    "dt_depth_25.fit(X_train, y_train)\n",
    "\n",
    "test_predicted_d25 = dt_depth_25.predict(X_test)\n",
    "d25_acc = accuracy_score(y_test, test_predicted_d25)\n",
    "print(f\"Depth 25 Acc: {d25_acc}\")\n",
    "\n",
    "# DTC Max depth = 50\n",
    "\n",
    "dt_depth_50 = DecisionTreeClassifier(criterion = 'entropy', max_depth=50, random_state = 1000)\n",
    "dt_depth_50.fit(X_train, y_train)\n",
    "\n",
    "test_predicted_d50 = dt_depth_50.predict(X_test)\n",
    "d50_acc = accuracy_score(y_test, test_predicted_d50)\n",
    "print(f\"Depth 50 Acc: {d50_acc}\")\n",
    "\n",
    "# DTC Max depth = 60\n",
    "\n",
    "dt_depth_60 = DecisionTreeClassifier(criterion = 'entropy', max_depth=60, random_state = 1000)\n",
    "dt_depth_60.fit(X_train, y_train)\n",
    "\n",
    "test_predicted_d60 = dt_depth_60.predict(X_test)\n",
    "d60_acc = accuracy_score(y_test, test_predicted_d60)\n",
    "print(f\"Depth 60 Acc: {d60_acc}\")"
   ]
  },
  {
   "cell_type": "code",
   "execution_count": 29,
   "metadata": {},
   "outputs": [
    {
     "name": "stdout",
     "output_type": "stream",
     "text": [
      "10 trees Acc: 0.71\n",
      "20 trees Acc: 0.76\n",
      "50 trees Acc: 0.71\n",
      "30 trees Acc: 0.76\n"
     ]
    },
    {
     "data": {
      "image/png": "[encoded data removed]",
      "text/plain": [
       "<Figure size 720x1080 with 8 Axes>"
      ]
     },
     "metadata": {
      "needs_background": "light"
     },
     "output_type": "display_data"
    }
   ],
   "source": [
    "# ----- RFC Classification -----\n",
    "def plot_confusion_matrices(cm, classes=None, title='', ax = None):\n",
    "    \"\"\"Plots a confusion matrix.\"\"\"\n",
    "    if classes is not None:\n",
    "        sns.heatmap(cm, xticklabels=classes, yticklabels=classes, vmin=0., vmax=1., annot=True, ax=ax)\n",
    "    else:\n",
    "        sns.heatmap(cm, vmin=0., vmax=1., ax=ax)\n",
    "    plt.title(title)\n",
    "    plt.ylabel('True label')\n",
    "    plt.xlabel('Predicted label')\n",
    "\n",
    "fig, ax = plt.subplots(4,1, sharey = True, figsize=(10,15))\n",
    "\n",
    "# 10 Trees\n",
    "tree_num = 10\n",
    "rfc_10 = RandomForestClassifier(n_estimators=tree_num, criterion='entropy')\n",
    "rfc_10.fit(X_train, y_train)\n",
    "\n",
    "test_predicted_rfc10 = rfc_10.predict(X_test)\n",
    "rfc10_acc = accuracy_score(y_test,test_predicted_rfc10)\n",
    "print(f'{tree_num} trees Acc: {rfc10_acc}')\n",
    "\n",
    "cm = confusion_matrix(y_test, test_predicted_rfc10)\n",
    "norm_cm = cm / np.sum(cm, axis = 1).reshape(-1,1)\n",
    "plot_confusion_matrices(norm_cm, classes = ['bad', 'good'], ax = ax[0])\n",
    "\n",
    "# 20 Trees\n",
    "tree_num = 20\n",
    "rfc_20 = RandomForestClassifier(n_estimators=tree_num, criterion='entropy')\n",
    "rfc_20.fit(X_train, y_train)\n",
    "\n",
    "test_predicted_rfc20 = rfc_20.predict(X_test)\n",
    "rfc20_acc = accuracy_score(y_test,test_predicted_rfc20)\n",
    "print(f'{tree_num} trees Acc: {rfc20_acc}')\n",
    "\n",
    "cm = confusion_matrix(y_test, test_predicted_rfc20)\n",
    "norm_cm = cm / np.sum(cm, axis = 1).reshape(-1,1)\n",
    "plot_confusion_matrices(norm_cm, classes = ['bad', 'good'], ax=ax[1])\n",
    "\n",
    "# 50 Trees\n",
    "tree_num = 50\n",
    "rfc_50 = RandomForestClassifier(n_estimators=tree_num, criterion='entropy')\n",
    "rfc_50.fit(X_train, y_train)\n",
    "\n",
    "test_predicted_rfc50 = rfc_50.predict(X_test)\n",
    "rfc50_acc = accuracy_score(y_test,test_predicted_rfc50)\n",
    "print(f'{tree_num} trees Acc: {rfc50_acc}')\n",
    "\n",
    "cm = confusion_matrix(y_test, test_predicted_rfc50)\n",
    "norm_cm = cm / np.sum(cm, axis = 1).reshape(-1,1)\n",
    "plot_confusion_matrices(norm_cm, classes = ['bad', 'good'], ax=ax[2])\n",
    "\n",
    "# 30 Trees\n",
    "tree_num = 30\n",
    "rfc_30 = RandomForestClassifier(n_estimators=tree_num, criterion='entropy')\n",
    "rfc_30.fit(X_train, y_train)\n",
    "\n",
    "test_predicted_rfc30 = rfc_30.predict(X_test)\n",
    "rfc30_acc = accuracy_score(y_test,test_predicted_rfc30)\n",
    "print(f'{tree_num} trees Acc: {rfc30_acc}')\n",
    "\n",
    "cm = confusion_matrix(y_test, test_predicted_rfc30)\n",
    "norm_cm = cm / np.sum(cm, axis = 1).reshape(-1,1)\n",
    "plot_confusion_matrices(norm_cm, classes = ['bad', 'good'], ax=ax[3])"
   ]
  },
  {
   "cell_type": "markdown",
   "metadata": {},
   "source": [
    "<font color = green>\n",
    "The accuracy changes between classifiers with the same settings because the samples allocated to each tree in the frest are random which means each time we get a different split of the training data for n trees and therefore we get different trees."
   ]
  },
  {
   "cell_type": "markdown",
   "metadata": {},
   "source": [
    "N.B. Observing these confusion matrices you'll see something very important - for some configurations, the Random Forest **always predicts the majority class**: incidentally these are also the cases which do the best. This highlights (again) the importance of always checking performance against a dummy classifier!!!\n",
    "\n",
    "Additionally, if you want to reproduce your results, you must set the random seed (you can do this with the `random_state` argument). Random forests are...random!"
   ]
  },
  {
   "cell_type": "markdown",
   "metadata": {},
   "source": [
    "### ========== Question 1.20 ==========\n",
    "Compare the feature importances as estimated with the decision tree and random forest classifiers."
   ]
  },
  {
   "cell_type": "code",
   "execution_count": 30,
   "metadata": {},
   "outputs": [
    {
     "name": "stdout",
     "output_type": "stream",
     "text": [
      "RFC: [0.0696424  0.08833515 0.07442    0.04077269 0.01499708 0.0083235\n",
      " 0.0527596  0.01998169 0.01176952 0.00910861 0.01240292 0.0082812\n",
      " 0.00151844 0.00877059 0.01668297 0.01083261 0.00698486 0.00967705\n",
      " 0.00180527 0.0037535  0.00122245 0.01319147 0.01938736 0.00640154\n",
      " 0.00770321 0.00556737 0.0127446  0.01378772 0.01615853 0.0110508\n",
      " 0.01266174 0.00681314 0.00982718 0.01238263 0.01067488 0.01581463\n",
      " 0.01342486 0.00642101 0.0094134  0.01566709 0.00598121 0.00814061\n",
      " 0.00759791 0.0107383  0.01239468 0.00947508 0.01490382 0.01400451\n",
      " 0.01580456 0.01313083 0.00947682 0.01348618 0.01477603 0.00597887\n",
      " 0.00728365 0.01442099 0.01134474 0.01259024 0.01106551 0.00299987\n",
      " 0.00105483 0.01063124 0.01473361 0.00195601 0.00946795 0.00898617\n",
      " 0.00981721 0.01566749 0.01400763 0.00225223 0.00469594]\n",
      "DT_d25: [0.1158897  0.13404186 0.07534851 0.01722479 0.00253146 0.\n",
      " 0.0962252  0.02645324 0.00596805 0.01882377 0.00549359 0.00250257\n",
      " 0.         0.00827173 0.00486598 0.0221047  0.01278226 0.00943323\n",
      " 0.         0.00839542 0.         0.01308722 0.         0.\n",
      " 0.01087834 0.00962436 0.00747826 0.         0.02204033 0.02546885\n",
      " 0.01823453 0.00515899 0.00688863 0.00621363 0.00642199 0.00155799\n",
      " 0.00886127 0.         0.00718582 0.0068943  0.         0.01482485\n",
      " 0.01026052 0.00344715 0.02074816 0.00824608 0.02116111 0.00710756\n",
      " 0.0165918  0.00599322 0.0091725  0.         0.02681953 0.00412973\n",
      " 0.00344715 0.00344715 0.01614928 0.         0.00255493 0.00344715\n",
      " 0.         0.01667812 0.01623493 0.         0.01313287 0.00854492\n",
      " 0.01105978 0.02565877 0.0027429  0.         0.00604929]\n"
     ]
    }
   ],
   "source": [
    "# Your Code goes here:\n",
    "print(f\"RFC: {rfc_credit.feature_importances_}\")\n",
    "print(f\"DT_d25: {dt_depth_25.feature_importances_}\")"
   ]
  },
  {
   "cell_type": "markdown",
   "metadata": {},
   "source": [
    "<font color = green> Some features in DT carry no importance as there was no split at those features"
   ]
  },
  {
   "cell_type": "markdown",
   "metadata": {},
   "source": [
    "## 2. Linear regression\n",
    "In the second part of the lab we use the [CPU performance](https://archive.ics.uci.edu/ml/datasets/Computer+Hardware) dataset for a simple regression task. Famliarise yourself with the dataset before moving on to the next step. Note that the version we will be using is missing the `Model Name` and `PRP` attributes. Our task will be to use the remaining attributes to predict `ERP` values.\n",
    "\n",
    "Download the dataset and save it in a directory called `datasets` in the same folder that your notebooks live. Alternatively, you can save the dataset in any folder you wish and modify the `data_path` variable below accordingly. We will load our data into a pandas DataFrame structure. "
   ]
  },
  {
   "cell_type": "code",
   "execution_count": 31,
   "metadata": {},
   "outputs": [],
   "source": [
    "# Load the dataset\n",
    "data_path = os.path.join(os.getcwd(), 'datasets', 'cpu.csv')\n",
    "cpu = pd.read_csv(data_path, delimiter = ',')"
   ]
  },
  {
   "cell_type": "markdown",
   "metadata": {},
   "source": [
    "### ========== Question 2.1 ==========\n",
    "Display the number of data points and attributes in the dataset. "
   ]
  },
  {
   "cell_type": "code",
   "execution_count": 50,
   "metadata": {},
   "outputs": [
    {
     "name": "stdout",
     "output_type": "stream",
     "text": [
      "Data points: 209\n",
      "Attribute count: 7\n",
      "    vendor   MYCT    MMIN     MMAX   CACH  CHMIN  CHMAX    ERP\n",
      "0  adviser  125.0   256.0   6000.0  256.0   16.0  128.0  199.0\n",
      "1   amdahl   29.0  8000.0  32000.0   32.0    8.0   32.0  253.0\n",
      "2   amdahl   29.0  8000.0  32000.0   32.0    8.0   32.0  253.0\n",
      "3   amdahl   29.0  8000.0  32000.0   32.0    8.0   32.0  253.0\n",
      "4   amdahl   29.0  8000.0  16000.0   32.0    8.0   16.0  132.0\n"
     ]
    },
    {
     "data": {
      "text/html": [
       "<div>\n",
       "<style scoped>\n",
       "    .dataframe tbody tr th:only-of-type {\n",
       "        vertical-align: middle;\n",
       "    }\n",
       "\n",
       "    .dataframe tbody tr th {\n",
       "        vertical-align: top;\n",
       "    }\n",
       "\n",
       "    .dataframe thead th {\n",
       "        text-align: right;\n",
       "    }\n",
       "</style>\n",
       "<table border=\"1\" class=\"dataframe\">\n",
       "  <thead>\n",
       "    <tr style=\"text-align: right;\">\n",
       "      <th></th>\n",
       "      <th>MYCT</th>\n",
       "      <th>MMIN</th>\n",
       "      <th>MMAX</th>\n",
       "      <th>CACH</th>\n",
       "      <th>CHMIN</th>\n",
       "      <th>CHMAX</th>\n",
       "      <th>ERP</th>\n",
       "    </tr>\n",
       "  </thead>\n",
       "  <tbody>\n",
       "    <tr>\n",
       "      <th>count</th>\n",
       "      <td>209.000000</td>\n",
       "      <td>209.000000</td>\n",
       "      <td>209.000000</td>\n",
       "      <td>209.000000</td>\n",
       "      <td>209.000000</td>\n",
       "      <td>209.000000</td>\n",
       "      <td>209.000000</td>\n",
       "    </tr>\n",
       "    <tr>\n",
       "      <th>mean</th>\n",
       "      <td>203.822967</td>\n",
       "      <td>2867.980861</td>\n",
       "      <td>11796.153110</td>\n",
       "      <td>25.205742</td>\n",
       "      <td>4.698565</td>\n",
       "      <td>18.267943</td>\n",
       "      <td>99.330144</td>\n",
       "    </tr>\n",
       "    <tr>\n",
       "      <th>std</th>\n",
       "      <td>260.262926</td>\n",
       "      <td>3878.742758</td>\n",
       "      <td>11726.564377</td>\n",
       "      <td>40.628722</td>\n",
       "      <td>6.816274</td>\n",
       "      <td>25.997318</td>\n",
       "      <td>154.757102</td>\n",
       "    </tr>\n",
       "    <tr>\n",
       "      <th>min</th>\n",
       "      <td>17.000000</td>\n",
       "      <td>64.000000</td>\n",
       "      <td>64.000000</td>\n",
       "      <td>0.000000</td>\n",
       "      <td>0.000000</td>\n",
       "      <td>0.000000</td>\n",
       "      <td>15.000000</td>\n",
       "    </tr>\n",
       "    <tr>\n",
       "      <th>25%</th>\n",
       "      <td>50.000000</td>\n",
       "      <td>768.000000</td>\n",
       "      <td>4000.000000</td>\n",
       "      <td>0.000000</td>\n",
       "      <td>1.000000</td>\n",
       "      <td>5.000000</td>\n",
       "      <td>28.000000</td>\n",
       "    </tr>\n",
       "    <tr>\n",
       "      <th>50%</th>\n",
       "      <td>110.000000</td>\n",
       "      <td>2000.000000</td>\n",
       "      <td>8000.000000</td>\n",
       "      <td>8.000000</td>\n",
       "      <td>2.000000</td>\n",
       "      <td>8.000000</td>\n",
       "      <td>45.000000</td>\n",
       "    </tr>\n",
       "    <tr>\n",
       "      <th>75%</th>\n",
       "      <td>225.000000</td>\n",
       "      <td>4000.000000</td>\n",
       "      <td>16000.000000</td>\n",
       "      <td>32.000000</td>\n",
       "      <td>6.000000</td>\n",
       "      <td>24.000000</td>\n",
       "      <td>101.000000</td>\n",
       "    </tr>\n",
       "    <tr>\n",
       "      <th>max</th>\n",
       "      <td>1500.000000</td>\n",
       "      <td>32000.000000</td>\n",
       "      <td>64000.000000</td>\n",
       "      <td>256.000000</td>\n",
       "      <td>52.000000</td>\n",
       "      <td>176.000000</td>\n",
       "      <td>1238.000000</td>\n",
       "    </tr>\n",
       "  </tbody>\n",
       "</table>\n",
       "</div>"
      ],
      "text/plain": [
       "              MYCT          MMIN          MMAX        CACH       CHMIN  \\\n",
       "count   209.000000    209.000000    209.000000  209.000000  209.000000   \n",
       "mean    203.822967   2867.980861  11796.153110   25.205742    4.698565   \n",
       "std     260.262926   3878.742758  11726.564377   40.628722    6.816274   \n",
       "min      17.000000     64.000000     64.000000    0.000000    0.000000   \n",
       "25%      50.000000    768.000000   4000.000000    0.000000    1.000000   \n",
       "50%     110.000000   2000.000000   8000.000000    8.000000    2.000000   \n",
       "75%     225.000000   4000.000000  16000.000000   32.000000    6.000000   \n",
       "max    1500.000000  32000.000000  64000.000000  256.000000   52.000000   \n",
       "\n",
       "            CHMAX          ERP  \n",
       "count  209.000000   209.000000  \n",
       "mean    18.267943    99.330144  \n",
       "std     25.997318   154.757102  \n",
       "min      0.000000    15.000000  \n",
       "25%      5.000000    28.000000  \n",
       "50%      8.000000    45.000000  \n",
       "75%     24.000000   101.000000  \n",
       "max    176.000000  1238.000000  "
      ]
     },
     "execution_count": 50,
     "metadata": {},
     "output_type": "execute_result"
    }
   ],
   "source": [
    "# Your Code goes here:\n",
    "print(f'Data points: {len(cpu.index)}')\n",
    "print(f'Attribute count: {len(cpu.columns) - 1}')\n",
    "print(cpu.head())\n",
    "cpu.describe()"
   ]
  },
  {
   "cell_type": "markdown",
   "metadata": {},
   "source": [
    "### ========== Question 2.2 ==========\n",
    "Get a feeling of the data by using pandas `describe()` method. "
   ]
  },
  {
   "cell_type": "code",
   "execution_count": 51,
   "metadata": {},
   "outputs": [
    {
     "data": {
      "text/html": [
       "<div>\n",
       "<style scoped>\n",
       "    .dataframe tbody tr th:only-of-type {\n",
       "        vertical-align: middle;\n",
       "    }\n",
       "\n",
       "    .dataframe tbody tr th {\n",
       "        vertical-align: top;\n",
       "    }\n",
       "\n",
       "    .dataframe thead th {\n",
       "        text-align: right;\n",
       "    }\n",
       "</style>\n",
       "<table border=\"1\" class=\"dataframe\">\n",
       "  <thead>\n",
       "    <tr style=\"text-align: right;\">\n",
       "      <th></th>\n",
       "      <th>MYCT</th>\n",
       "      <th>MMIN</th>\n",
       "      <th>MMAX</th>\n",
       "      <th>CACH</th>\n",
       "      <th>CHMIN</th>\n",
       "      <th>CHMAX</th>\n",
       "      <th>ERP</th>\n",
       "    </tr>\n",
       "  </thead>\n",
       "  <tbody>\n",
       "    <tr>\n",
       "      <th>count</th>\n",
       "      <td>209.000000</td>\n",
       "      <td>209.000000</td>\n",
       "      <td>209.000000</td>\n",
       "      <td>209.000000</td>\n",
       "      <td>209.000000</td>\n",
       "      <td>209.000000</td>\n",
       "      <td>209.000000</td>\n",
       "    </tr>\n",
       "    <tr>\n",
       "      <th>mean</th>\n",
       "      <td>203.822967</td>\n",
       "      <td>2867.980861</td>\n",
       "      <td>11796.153110</td>\n",
       "      <td>25.205742</td>\n",
       "      <td>4.698565</td>\n",
       "      <td>18.267943</td>\n",
       "      <td>99.330144</td>\n",
       "    </tr>\n",
       "    <tr>\n",
       "      <th>std</th>\n",
       "      <td>260.262926</td>\n",
       "      <td>3878.742758</td>\n",
       "      <td>11726.564377</td>\n",
       "      <td>40.628722</td>\n",
       "      <td>6.816274</td>\n",
       "      <td>25.997318</td>\n",
       "      <td>154.757102</td>\n",
       "    </tr>\n",
       "    <tr>\n",
       "      <th>min</th>\n",
       "      <td>17.000000</td>\n",
       "      <td>64.000000</td>\n",
       "      <td>64.000000</td>\n",
       "      <td>0.000000</td>\n",
       "      <td>0.000000</td>\n",
       "      <td>0.000000</td>\n",
       "      <td>15.000000</td>\n",
       "    </tr>\n",
       "    <tr>\n",
       "      <th>25%</th>\n",
       "      <td>50.000000</td>\n",
       "      <td>768.000000</td>\n",
       "      <td>4000.000000</td>\n",
       "      <td>0.000000</td>\n",
       "      <td>1.000000</td>\n",
       "      <td>5.000000</td>\n",
       "      <td>28.000000</td>\n",
       "    </tr>\n",
       "    <tr>\n",
       "      <th>50%</th>\n",
       "      <td>110.000000</td>\n",
       "      <td>2000.000000</td>\n",
       "      <td>8000.000000</td>\n",
       "      <td>8.000000</td>\n",
       "      <td>2.000000</td>\n",
       "      <td>8.000000</td>\n",
       "      <td>45.000000</td>\n",
       "    </tr>\n",
       "    <tr>\n",
       "      <th>75%</th>\n",
       "      <td>225.000000</td>\n",
       "      <td>4000.000000</td>\n",
       "      <td>16000.000000</td>\n",
       "      <td>32.000000</td>\n",
       "      <td>6.000000</td>\n",
       "      <td>24.000000</td>\n",
       "      <td>101.000000</td>\n",
       "    </tr>\n",
       "    <tr>\n",
       "      <th>max</th>\n",
       "      <td>1500.000000</td>\n",
       "      <td>32000.000000</td>\n",
       "      <td>64000.000000</td>\n",
       "      <td>256.000000</td>\n",
       "      <td>52.000000</td>\n",
       "      <td>176.000000</td>\n",
       "      <td>1238.000000</td>\n",
       "    </tr>\n",
       "  </tbody>\n",
       "</table>\n",
       "</div>"
      ],
      "text/plain": [
       "              MYCT          MMIN          MMAX        CACH       CHMIN  \\\n",
       "count   209.000000    209.000000    209.000000  209.000000  209.000000   \n",
       "mean    203.822967   2867.980861  11796.153110   25.205742    4.698565   \n",
       "std     260.262926   3878.742758  11726.564377   40.628722    6.816274   \n",
       "min      17.000000     64.000000     64.000000    0.000000    0.000000   \n",
       "25%      50.000000    768.000000   4000.000000    0.000000    1.000000   \n",
       "50%     110.000000   2000.000000   8000.000000    8.000000    2.000000   \n",
       "75%     225.000000   4000.000000  16000.000000   32.000000    6.000000   \n",
       "max    1500.000000  32000.000000  64000.000000  256.000000   52.000000   \n",
       "\n",
       "            CHMAX          ERP  \n",
       "count  209.000000   209.000000  \n",
       "mean    18.267943    99.330144  \n",
       "std     25.997318   154.757102  \n",
       "min      0.000000    15.000000  \n",
       "25%      5.000000    28.000000  \n",
       "50%      8.000000    45.000000  \n",
       "75%     24.000000   101.000000  \n",
       "max    176.000000  1238.000000  "
      ]
     },
     "execution_count": 51,
     "metadata": {},
     "output_type": "execute_result"
    }
   ],
   "source": [
    "# Your Code goes here:\n",
    "cpu.describe()"
   ]
  },
  {
   "cell_type": "markdown",
   "metadata": {},
   "source": [
    "### ========== Question 2.3 ==========\n",
    "Display the first 10 data points of the dataset"
   ]
  },
  {
   "cell_type": "code",
   "execution_count": 52,
   "metadata": {},
   "outputs": [
    {
     "data": {
      "text/html": [
       "<div>\n",
       "<style scoped>\n",
       "    .dataframe tbody tr th:only-of-type {\n",
       "        vertical-align: middle;\n",
       "    }\n",
       "\n",
       "    .dataframe tbody tr th {\n",
       "        vertical-align: top;\n",
       "    }\n",
       "\n",
       "    .dataframe thead th {\n",
       "        text-align: right;\n",
       "    }\n",
       "</style>\n",
       "<table border=\"1\" class=\"dataframe\">\n",
       "  <thead>\n",
       "    <tr style=\"text-align: right;\">\n",
       "      <th></th>\n",
       "      <th>vendor</th>\n",
       "      <th>MYCT</th>\n",
       "      <th>MMIN</th>\n",
       "      <th>MMAX</th>\n",
       "      <th>CACH</th>\n",
       "      <th>CHMIN</th>\n",
       "      <th>CHMAX</th>\n",
       "      <th>ERP</th>\n",
       "    </tr>\n",
       "  </thead>\n",
       "  <tbody>\n",
       "    <tr>\n",
       "      <th>0</th>\n",
       "      <td>adviser</td>\n",
       "      <td>125.0</td>\n",
       "      <td>256.0</td>\n",
       "      <td>6000.0</td>\n",
       "      <td>256.0</td>\n",
       "      <td>16.0</td>\n",
       "      <td>128.0</td>\n",
       "      <td>199.0</td>\n",
       "    </tr>\n",
       "    <tr>\n",
       "      <th>1</th>\n",
       "      <td>amdahl</td>\n",
       "      <td>29.0</td>\n",
       "      <td>8000.0</td>\n",
       "      <td>32000.0</td>\n",
       "      <td>32.0</td>\n",
       "      <td>8.0</td>\n",
       "      <td>32.0</td>\n",
       "      <td>253.0</td>\n",
       "    </tr>\n",
       "    <tr>\n",
       "      <th>2</th>\n",
       "      <td>amdahl</td>\n",
       "      <td>29.0</td>\n",
       "      <td>8000.0</td>\n",
       "      <td>32000.0</td>\n",
       "      <td>32.0</td>\n",
       "      <td>8.0</td>\n",
       "      <td>32.0</td>\n",
       "      <td>253.0</td>\n",
       "    </tr>\n",
       "    <tr>\n",
       "      <th>3</th>\n",
       "      <td>amdahl</td>\n",
       "      <td>29.0</td>\n",
       "      <td>8000.0</td>\n",
       "      <td>32000.0</td>\n",
       "      <td>32.0</td>\n",
       "      <td>8.0</td>\n",
       "      <td>32.0</td>\n",
       "      <td>253.0</td>\n",
       "    </tr>\n",
       "    <tr>\n",
       "      <th>4</th>\n",
       "      <td>amdahl</td>\n",
       "      <td>29.0</td>\n",
       "      <td>8000.0</td>\n",
       "      <td>16000.0</td>\n",
       "      <td>32.0</td>\n",
       "      <td>8.0</td>\n",
       "      <td>16.0</td>\n",
       "      <td>132.0</td>\n",
       "    </tr>\n",
       "    <tr>\n",
       "      <th>5</th>\n",
       "      <td>amdahl</td>\n",
       "      <td>26.0</td>\n",
       "      <td>8000.0</td>\n",
       "      <td>32000.0</td>\n",
       "      <td>64.0</td>\n",
       "      <td>8.0</td>\n",
       "      <td>32.0</td>\n",
       "      <td>290.0</td>\n",
       "    </tr>\n",
       "    <tr>\n",
       "      <th>6</th>\n",
       "      <td>amdahl</td>\n",
       "      <td>23.0</td>\n",
       "      <td>16000.0</td>\n",
       "      <td>32000.0</td>\n",
       "      <td>64.0</td>\n",
       "      <td>16.0</td>\n",
       "      <td>32.0</td>\n",
       "      <td>381.0</td>\n",
       "    </tr>\n",
       "    <tr>\n",
       "      <th>7</th>\n",
       "      <td>amdahl</td>\n",
       "      <td>23.0</td>\n",
       "      <td>16000.0</td>\n",
       "      <td>32000.0</td>\n",
       "      <td>64.0</td>\n",
       "      <td>16.0</td>\n",
       "      <td>32.0</td>\n",
       "      <td>381.0</td>\n",
       "    </tr>\n",
       "    <tr>\n",
       "      <th>8</th>\n",
       "      <td>amdahl</td>\n",
       "      <td>23.0</td>\n",
       "      <td>16000.0</td>\n",
       "      <td>64000.0</td>\n",
       "      <td>64.0</td>\n",
       "      <td>16.0</td>\n",
       "      <td>32.0</td>\n",
       "      <td>749.0</td>\n",
       "    </tr>\n",
       "    <tr>\n",
       "      <th>9</th>\n",
       "      <td>amdahl</td>\n",
       "      <td>23.0</td>\n",
       "      <td>32000.0</td>\n",
       "      <td>64000.0</td>\n",
       "      <td>128.0</td>\n",
       "      <td>32.0</td>\n",
       "      <td>64.0</td>\n",
       "      <td>1238.0</td>\n",
       "    </tr>\n",
       "  </tbody>\n",
       "</table>\n",
       "</div>"
      ],
      "text/plain": [
       "    vendor   MYCT     MMIN     MMAX   CACH  CHMIN  CHMAX     ERP\n",
       "0  adviser  125.0    256.0   6000.0  256.0   16.0  128.0   199.0\n",
       "1   amdahl   29.0   8000.0  32000.0   32.0    8.0   32.0   253.0\n",
       "2   amdahl   29.0   8000.0  32000.0   32.0    8.0   32.0   253.0\n",
       "3   amdahl   29.0   8000.0  32000.0   32.0    8.0   32.0   253.0\n",
       "4   amdahl   29.0   8000.0  16000.0   32.0    8.0   16.0   132.0\n",
       "5   amdahl   26.0   8000.0  32000.0   64.0    8.0   32.0   290.0\n",
       "6   amdahl   23.0  16000.0  32000.0   64.0   16.0   32.0   381.0\n",
       "7   amdahl   23.0  16000.0  32000.0   64.0   16.0   32.0   381.0\n",
       "8   amdahl   23.0  16000.0  64000.0   64.0   16.0   32.0   749.0\n",
       "9   amdahl   23.0  32000.0  64000.0  128.0   32.0   64.0  1238.0"
      ]
     },
     "execution_count": 52,
     "metadata": {},
     "output_type": "execute_result"
    }
   ],
   "source": [
    "# Your Code goes here:\n",
    "cpu.head(10)"
   ]
  },
  {
   "cell_type": "markdown",
   "metadata": {},
   "source": [
    "### ========== Question 2.4 ========== \n",
    "You might have noticed that the `vendor` attribute is categorical. This will give problems when using a linear regression model. For now we can simply remove this attribute. Create a new DataFrame called `cpu_clean` by copying `cpu` but omit the `vendor` attribute. Display the number of samples and attributes in the clean dataset as a sanity check."
   ]
  },
  {
   "cell_type": "code",
   "execution_count": 56,
   "metadata": {},
   "outputs": [
    {
     "data": {
      "text/plain": [
       "Index(['MYCT', 'MMIN', 'MMAX', 'CACH', 'CHMIN', 'CHMAX', 'ERP'], dtype='object')"
      ]
     },
     "execution_count": 56,
     "metadata": {},
     "output_type": "execute_result"
    }
   ],
   "source": [
    "# Your Code goes here:\n",
    "cpu_clean = cpu.drop('vendor', axis = 1)\n",
    "cpu_clean.columns"
   ]
  },
  {
   "cell_type": "markdown",
   "metadata": {},
   "source": [
    "### ========== Question 2.5 ==========\n",
    "Now -as always- we want to perform some exploratory data analysis. Remember that our task is to predict `ERP` values, so it's a good idea to inspect individual scatter plots of the target variable (`ERP`) against our input features. For this purpose we will use once again seaborn's pairplot implementation.\n",
    "\n",
    "Create a series of [pairplots](https://seaborn.github.io/generated/seaborn.pairplot.html?highlight=pairplot#seaborn.pairplot) showing the pairwise relationship of `ERP` and the remaining attributes in the data. You can do so by specifying explicitly the `x_vars` and `y_vars` input arguments in the pairplot. *Hnt: Your final plot will consist of 6 subplots each contaning a scatter plot.*"
   ]
  },
  {
   "cell_type": "code",
   "execution_count": 62,
   "metadata": {},
   "outputs": [
    {
     "name": "stdout",
     "output_type": "stream",
     "text": [
      "['MYCT', 'MMIN', 'MMAX', 'CACH', 'CHMIN', 'CHMAX', 'ERP']\n"
     ]
    },
    {
     "data": {
      "image/png": "[encoded data removed]",
      "text/plain": [
       "<Figure size 288x288 with 1 Axes>"
      ]
     },
     "metadata": {
      "needs_background": "light"
     },
     "output_type": "display_data"
    },
    {
     "data": {
      "image/png": "[encoded data removed]",
      "text/plain": [
       "<Figure size 288x288 with 1 Axes>"
      ]
     },
     "metadata": {
      "needs_background": "light"
     },
     "output_type": "display_data"
    },
    {
     "data": {
      "image/png": "[encoded data removed]",
      "text/plain": [
       "<Figure size 288x288 with 1 Axes>"
      ]
     },
     "metadata": {
      "needs_background": "light"
     },
     "output_type": "display_data"
    },
    {
     "data": {
      "image/png": "[encoded data removed]",
      "text/plain": [
       "<Figure size 288x288 with 1 Axes>"
      ]
     },
     "metadata": {
      "needs_background": "light"
     },
     "output_type": "display_data"
    },
    {
     "data": {
      "image/png": "[encoded data removed]",
      "text/plain": [
       "<Figure size 288x288 with 1 Axes>"
      ]
     },
     "metadata": {
      "needs_background": "light"
     },
     "output_type": "display_data"
    },
    {
     "data": {
      "image/png": "[encoded data removed]",
      "text/plain": [
       "<Figure size 288x288 with 1 Axes>"
      ]
     },
     "metadata": {
      "needs_background": "light"
     },
     "output_type": "display_data"
    }
   ],
   "source": [
    "# Your Code goes here:\n",
    "columns = list(cpu_clean.columns)\n",
    "print(columns)\n",
    "for i in range(len(cpu_clean.columns) - 1):\n",
    "    sns.pairplot(cpu_clean, x_vars=['ERP'], y_vars=[columns[i]], height = 4)\n",
    "    \n"
   ]
  },
  {
   "cell_type": "markdown",
   "metadata": {},
   "source": [
    "### ========== Question 2.6 ==========\n",
    "* Do you think that ERP should be at least partially predictable from the input attributes?\n",
    "* Do any attributes exhibit significant correlations?"
   ]
  },
  {
   "cell_type": "markdown",
   "metadata": {},
   "source": [
    "***Your answer goes here:***\n",
    "For small values of 'MMIN', 'MMAX', 'CACH', 'CHMIN', 'CHMAX', ERP is clearly small."
   ]
  },
  {
   "cell_type": "markdown",
   "metadata": {},
   "source": [
    "### ========== Question 2.7 ==========\n",
    "Now we have a feel for the data and we will try fitting a simple linear regression model. Similarly to what we did in the first part of the lab, we want to use cross-validation to evaluate the goodness of the fit.\n",
    "\n",
    "By using the `cpu_clean` dataset extract the raw values for the input features and the target variable and store them in two matrices, called `X` and `y` respectively. \n",
    "\n",
    "Then, split the dataset into training and testing sets by using a 75%-25% split (training/testing).\n",
    "\n",
    "Display the shapes of all matrices involved and double-check that all dimensionalities appear to be as expected."
   ]
  },
  {
   "cell_type": "code",
   "execution_count": 70,
   "metadata": {},
   "outputs": [],
   "source": [
    "# Your Code goes here:\n",
    "X = cpu_clean[list(cpu_clean.columns)[0:-1]].values\n",
    "y = cpu_clean.ERP.values\n",
    "X_train, X_test, y_train, y_test = train_test_split(X, y, train_size = 0.75, test_size=0.25, random_state=0)"
   ]
  },
  {
   "cell_type": "markdown",
   "metadata": {},
   "source": [
    "### ========== Question 2.8 ==========\n",
    "Fit a simple linear regressor by using the [`LinearRegression`](http://scikit-learn.org/0.19/modules/generated/sklearn.linear_model.LinearRegression.html) model in Scikit-learn. Report the training accuracy by using the `score` attribute. What does this represent?"
   ]
  },
  {
   "cell_type": "code",
   "execution_count": 73,
   "metadata": {},
   "outputs": [
    {
     "name": "stdout",
     "output_type": "stream",
     "text": [
      "Train accuracy: 0.9159042526072215, Test accuracy: 0.8567872822868501\n"
     ]
    }
   ],
   "source": [
    "# Your Code goes here:\n",
    "lr_cpu = LinearRegression()\n",
    "lr_cpu.fit(X_train, y_train)\n",
    "train_score = lr_cpu.score(X_train, y_train)\n",
    "test_score = lr_cpu.score(X_test, y_test)\n",
    "print(f\"Train score accuracy: {train_score}, Test score accuracy: {test_score}\")"
   ]
  },
  {
   "cell_type": "markdown",
   "metadata": {},
   "source": [
    "***Your answer goes here:*** The score represents how accurate our model is on bot the training data and the testing data."
   ]
  },
  {
   "cell_type": "markdown",
   "metadata": {},
   "source": [
    "### ========== Question 2.9 ==========\n",
    "Now report the testing accuracy by using the `score` attribute of the regressor as well as the `r2_score` metric. Confirm that these two yield identical results.\n",
    "\n",
    "How does the accuracy compare to the one reported on the training dataset? Do you think that your model does well on generalising on unseen data? "
   ]
  },
  {
   "cell_type": "code",
   "execution_count": 74,
   "metadata": {},
   "outputs": [
    {
     "name": "stdout",
     "output_type": "stream",
     "text": [
      "r2_score accuracy: 0.8567872822868501\n",
      "score accuracy: 0.8567872822868501\n"
     ]
    }
   ],
   "source": [
    "# Your Code goes here:\n",
    "\n",
    "lr_test_predicted = lr_cpu.predict(X_test)\n",
    "r2_test_acc = r2_score(y_test, lr_test_predicted)\n",
    "print(f\"r2_score accuracy: {r2_test_acc}\")\n",
    "print(f\"score accuracy: {test_score}\")"
   ]
  },
  {
   "cell_type": "markdown",
   "metadata": {},
   "source": [
    "***Your answer goes here:*** The testing accuracy of the model does not differ greatly from the training accuracy. This can be an indicator that our model does not overfit and performs well on generalising on unseen data."
   ]
  },
  {
   "cell_type": "markdown",
   "metadata": {},
   "source": [
    "### ========== Question 2.10 ==========\n",
    "Now we want to get a feel for how good the fit is, so we wil plot the measured values against the predicted ones. Make use of the function provided below which takes as input arguments the measured (`y_true`) and predicted (`y_pred`) values of a target variable and produces a scatter plot for the two by also including a straight line going through the origin. \n",
    "\n",
    "Where would you expect the points to be for a perfect fit?"
   ]
  },
  {
   "cell_type": "code",
   "execution_count": 40,
   "metadata": {},
   "outputs": [],
   "source": [
    "def fit_scatter(y_true, y_pred):\n",
    "    assert y_true.shape == y_pred.shape\n",
    "    fig, ax = plt.subplots()\n",
    "    ax.scatter(y_true, y_pred)\n",
    "    ax.plot([y_true.min(), y_true.max()], [y_true.min(), y_true.max()], 'k--', lw=4)\n",
    "    ax.set_xlabel('Measured')\n",
    "    ax.set_ylabel('Predicted')"
   ]
  },
  {
   "cell_type": "code",
   "execution_count": 75,
   "metadata": {},
   "outputs": [
    {
     "data": {
      "image/png": "[encoded data removed]",
      "text/plain": [
       "<Figure size 432x288 with 1 Axes>"
      ]
     },
     "metadata": {
      "needs_background": "light"
     },
     "output_type": "display_data"
    }
   ],
   "source": [
    "# Your Code goes here:\n",
    "fit_scatter(y_test, lr_test_predicted)"
   ]
  },
  {
   "cell_type": "markdown",
   "metadata": {},
   "source": [
    "***Your answer goes here:***\n",
    "A perfect fit would have the points along the straight line as the predicted value would be the same as the true (measured) value."
   ]
  },
  {
   "cell_type": "markdown",
   "metadata": {},
   "source": [
    "### ========== Question 2.11 ==========\n",
    "Another way of assessing the performance of the model is to inspect the distribution of the errors. Make a histogram plot by using seaborn's `displot` function. This will also show an estimate of the underlying distribution.\n",
    "\n",
    "Does it look like the errors are normally distributed? Would you trust the fit of the distribution on the graph? Explain why."
   ]
  },
  {
   "cell_type": "code",
   "execution_count": 78,
   "metadata": {},
   "outputs": [
    {
     "data": {
      "text/plain": [
       "'0.9.0'"
      ]
     },
     "execution_count": 78,
     "metadata": {},
     "output_type": "execute_result"
    }
   ],
   "source": [
    "# Your Code goes here:\n",
    "error = y_test - lr_test_predicted\n",
    "sns.distplot(a = error)"
   ]
  },
  {
   "cell_type": "markdown",
   "metadata": {},
   "source": [
    "***Your answer goes here:***"
   ]
  },
  {
   "cell_type": "markdown",
   "metadata": {},
   "source": [
    "### ========== Question 2.12 ==========\n",
    "Above we deleted the vendor variable. However, we can use nominal attributes in regression by converting them to numeric, exactly in the same way that we did at the first part of this lab. \n",
    "\n",
    "Now, use the original `cpu` dataset and convert the `vendor` attribute to a numeric one by means of one-hot-encoding. Then train a linear regression model to the data and compare its performance to the one we had previously. Did adding the *binazired vendor* variable help? "
   ]
  },
  {
   "cell_type": "code",
   "execution_count": 43,
   "metadata": {},
   "outputs": [],
   "source": [
    "# Your Code goes here:"
   ]
  },
  {
   "cell_type": "markdown",
   "metadata": {},
   "source": [
    "***Your answer goes here:***"
   ]
  }
 ],
 "metadata": {
  "kernelspec": {
   "display_name": "Python 3",
   "language": "python",
   "name": "python3"
  },
  "language_info": {
   "codemirror_mode": {
    "name": "ipython",
    "version": 3
   },
   "file_extension": ".py",
   "mimetype": "text/x-python",
   "name": "python",
   "nbconvert_exporter": "python",
   "pygments_lexer": "ipython3",
   "version": "3.7.9"
  }
 },
 "nbformat": 4,
 "nbformat_minor": 1
}
